{
 "cells": [
  {
   "cell_type": "code",
   "execution_count": 1021,
   "id": "44dcba27",
   "metadata": {},
   "outputs": [
    {
     "data": {
      "text/html": [
       "<div>\n",
       "<style scoped>\n",
       "    .dataframe tbody tr th:only-of-type {\n",
       "        vertical-align: middle;\n",
       "    }\n",
       "\n",
       "    .dataframe tbody tr th {\n",
       "        vertical-align: top;\n",
       "    }\n",
       "\n",
       "    .dataframe thead th {\n",
       "        text-align: right;\n",
       "    }\n",
       "</style>\n",
       "<table border=\"1\" class=\"dataframe\">\n",
       "  <thead>\n",
       "    <tr style=\"text-align: right;\">\n",
       "      <th></th>\n",
       "      <th>id</th>\n",
       "      <th>name</th>\n",
       "      <th>nationality</th>\n",
       "      <th>sex</th>\n",
       "      <th>dob</th>\n",
       "      <th>height</th>\n",
       "      <th>weight</th>\n",
       "      <th>sport</th>\n",
       "      <th>gold</th>\n",
       "      <th>silver</th>\n",
       "      <th>bronze</th>\n",
       "    </tr>\n",
       "  </thead>\n",
       "  <tbody>\n",
       "    <tr>\n",
       "      <th>0</th>\n",
       "      <td>736041664</td>\n",
       "      <td>A Jesus Garcia</td>\n",
       "      <td>ESP</td>\n",
       "      <td>male</td>\n",
       "      <td>10/17/69</td>\n",
       "      <td>1.72</td>\n",
       "      <td>64.0</td>\n",
       "      <td>athletics</td>\n",
       "      <td>0</td>\n",
       "      <td>0</td>\n",
       "      <td>0</td>\n",
       "    </tr>\n",
       "    <tr>\n",
       "      <th>1</th>\n",
       "      <td>532037425</td>\n",
       "      <td>A Lam Shin</td>\n",
       "      <td>KOR</td>\n",
       "      <td>female</td>\n",
       "      <td>9/23/86</td>\n",
       "      <td>1.68</td>\n",
       "      <td>56.0</td>\n",
       "      <td>fencing</td>\n",
       "      <td>0</td>\n",
       "      <td>0</td>\n",
       "      <td>0</td>\n",
       "    </tr>\n",
       "    <tr>\n",
       "      <th>2</th>\n",
       "      <td>435962603</td>\n",
       "      <td>Aaron Brown</td>\n",
       "      <td>CAN</td>\n",
       "      <td>male</td>\n",
       "      <td>5/27/92</td>\n",
       "      <td>1.98</td>\n",
       "      <td>79.0</td>\n",
       "      <td>athletics</td>\n",
       "      <td>0</td>\n",
       "      <td>0</td>\n",
       "      <td>1</td>\n",
       "    </tr>\n",
       "    <tr>\n",
       "      <th>3</th>\n",
       "      <td>521041435</td>\n",
       "      <td>Aaron Cook</td>\n",
       "      <td>MDA</td>\n",
       "      <td>male</td>\n",
       "      <td>1/2/91</td>\n",
       "      <td>1.83</td>\n",
       "      <td>80.0</td>\n",
       "      <td>taekwondo</td>\n",
       "      <td>0</td>\n",
       "      <td>0</td>\n",
       "      <td>0</td>\n",
       "    </tr>\n",
       "    <tr>\n",
       "      <th>4</th>\n",
       "      <td>33922579</td>\n",
       "      <td>Aaron Gate</td>\n",
       "      <td>NZL</td>\n",
       "      <td>male</td>\n",
       "      <td>11/26/90</td>\n",
       "      <td>1.81</td>\n",
       "      <td>71.0</td>\n",
       "      <td>cycling</td>\n",
       "      <td>0</td>\n",
       "      <td>0</td>\n",
       "      <td>0</td>\n",
       "    </tr>\n",
       "    <tr>\n",
       "      <th>...</th>\n",
       "      <td>...</td>\n",
       "      <td>...</td>\n",
       "      <td>...</td>\n",
       "      <td>...</td>\n",
       "      <td>...</td>\n",
       "      <td>...</td>\n",
       "      <td>...</td>\n",
       "      <td>...</td>\n",
       "      <td>...</td>\n",
       "      <td>...</td>\n",
       "      <td>...</td>\n",
       "    </tr>\n",
       "    <tr>\n",
       "      <th>11533</th>\n",
       "      <td>265605954</td>\n",
       "      <td>Zurian Hechavarria</td>\n",
       "      <td>CUB</td>\n",
       "      <td>female</td>\n",
       "      <td>8/10/95</td>\n",
       "      <td>1.64</td>\n",
       "      <td>58.0</td>\n",
       "      <td>athletics</td>\n",
       "      <td>0</td>\n",
       "      <td>0</td>\n",
       "      <td>0</td>\n",
       "    </tr>\n",
       "    <tr>\n",
       "      <th>11534</th>\n",
       "      <td>214461847</td>\n",
       "      <td>Zuzana Hejnova</td>\n",
       "      <td>CZE</td>\n",
       "      <td>female</td>\n",
       "      <td>12/19/86</td>\n",
       "      <td>1.73</td>\n",
       "      <td>63.0</td>\n",
       "      <td>athletics</td>\n",
       "      <td>0</td>\n",
       "      <td>0</td>\n",
       "      <td>0</td>\n",
       "    </tr>\n",
       "    <tr>\n",
       "      <th>11535</th>\n",
       "      <td>88361042</td>\n",
       "      <td>di Xiao</td>\n",
       "      <td>CHN</td>\n",
       "      <td>male</td>\n",
       "      <td>5/14/91</td>\n",
       "      <td>1.85</td>\n",
       "      <td>100.0</td>\n",
       "      <td>wrestling</td>\n",
       "      <td>0</td>\n",
       "      <td>0</td>\n",
       "      <td>0</td>\n",
       "    </tr>\n",
       "    <tr>\n",
       "      <th>11536</th>\n",
       "      <td>900065925</td>\n",
       "      <td>le Quoc Toan Tran</td>\n",
       "      <td>VIE</td>\n",
       "      <td>male</td>\n",
       "      <td>4/5/89</td>\n",
       "      <td>1.60</td>\n",
       "      <td>56.0</td>\n",
       "      <td>weightlifting</td>\n",
       "      <td>0</td>\n",
       "      <td>0</td>\n",
       "      <td>0</td>\n",
       "    </tr>\n",
       "    <tr>\n",
       "      <th>11537</th>\n",
       "      <td>711404576</td>\n",
       "      <td>le Roux Hamman</td>\n",
       "      <td>RSA</td>\n",
       "      <td>male</td>\n",
       "      <td>1/6/92</td>\n",
       "      <td>1.85</td>\n",
       "      <td>70.0</td>\n",
       "      <td>athletics</td>\n",
       "      <td>0</td>\n",
       "      <td>0</td>\n",
       "      <td>0</td>\n",
       "    </tr>\n",
       "  </tbody>\n",
       "</table>\n",
       "<p>11538 rows × 11 columns</p>\n",
       "</div>"
      ],
      "text/plain": [
       "              id                name nationality     sex       dob  height  \\\n",
       "0      736041664      A Jesus Garcia         ESP    male  10/17/69    1.72   \n",
       "1      532037425          A Lam Shin         KOR  female   9/23/86    1.68   \n",
       "2      435962603         Aaron Brown         CAN    male   5/27/92    1.98   \n",
       "3      521041435          Aaron Cook         MDA    male    1/2/91    1.83   \n",
       "4       33922579          Aaron Gate         NZL    male  11/26/90    1.81   \n",
       "...          ...                 ...         ...     ...       ...     ...   \n",
       "11533  265605954  Zurian Hechavarria         CUB  female   8/10/95    1.64   \n",
       "11534  214461847      Zuzana Hejnova         CZE  female  12/19/86    1.73   \n",
       "11535   88361042             di Xiao         CHN    male   5/14/91    1.85   \n",
       "11536  900065925   le Quoc Toan Tran         VIE    male    4/5/89    1.60   \n",
       "11537  711404576      le Roux Hamman         RSA    male    1/6/92    1.85   \n",
       "\n",
       "       weight          sport  gold  silver  bronze  \n",
       "0        64.0      athletics     0       0       0  \n",
       "1        56.0        fencing     0       0       0  \n",
       "2        79.0      athletics     0       0       1  \n",
       "3        80.0      taekwondo     0       0       0  \n",
       "4        71.0        cycling     0       0       0  \n",
       "...       ...            ...   ...     ...     ...  \n",
       "11533    58.0      athletics     0       0       0  \n",
       "11534    63.0      athletics     0       0       0  \n",
       "11535   100.0      wrestling     0       0       0  \n",
       "11536    56.0  weightlifting     0       0       0  \n",
       "11537    70.0      athletics     0       0       0  \n",
       "\n",
       "[11538 rows x 11 columns]"
      ]
     },
     "execution_count": 1021,
     "metadata": {},
     "output_type": "execute_result"
    }
   ],
   "source": [
    "import numpy as np\n",
    "import pandas as pd # Для работы с данными\n",
    "import scipy.stats # При работе со статистикой\n",
    "import matplotlib.pyplot as plt  # Библиотека для визуализации результатов \n",
    "from math import log\n",
    "data = pd.read_csv('https://raw.githubusercontent.com/a-milenkin/datasets_for_t-tests/main/athletes.csv') # датасет - https://www.kaggle.com/rio2016/olympic-games\n",
    "data\n"
   ]
  },
  {
   "cell_type": "code",
   "execution_count": null,
   "id": "91ec9a8d",
   "metadata": {},
   "outputs": [],
   "source": [
    "# Задача подобрать зависимость как рост зависит от пола"
   ]
  },
  {
   "cell_type": "code",
   "execution_count": 1022,
   "id": "7b3b7071",
   "metadata": {},
   "outputs": [
    {
     "data": {
      "text/html": [
       "<div>\n",
       "<style scoped>\n",
       "    .dataframe tbody tr th:only-of-type {\n",
       "        vertical-align: middle;\n",
       "    }\n",
       "\n",
       "    .dataframe tbody tr th {\n",
       "        vertical-align: top;\n",
       "    }\n",
       "\n",
       "    .dataframe thead th {\n",
       "        text-align: right;\n",
       "    }\n",
       "</style>\n",
       "<table border=\"1\" class=\"dataframe\">\n",
       "  <thead>\n",
       "    <tr style=\"text-align: right;\">\n",
       "      <th></th>\n",
       "      <th>id</th>\n",
       "      <th>name</th>\n",
       "      <th>nationality</th>\n",
       "      <th>sex</th>\n",
       "      <th>dob</th>\n",
       "      <th>height</th>\n",
       "      <th>weight</th>\n",
       "      <th>sport</th>\n",
       "      <th>gold</th>\n",
       "      <th>silver</th>\n",
       "      <th>bronze</th>\n",
       "    </tr>\n",
       "  </thead>\n",
       "  <tbody>\n",
       "    <tr>\n",
       "      <th>12</th>\n",
       "      <td>258556239</td>\n",
       "      <td>Abbas Qali</td>\n",
       "      <td>IOA</td>\n",
       "      <td>male</td>\n",
       "      <td>10/11/92</td>\n",
       "      <td>NaN</td>\n",
       "      <td>NaN</td>\n",
       "      <td>aquatics</td>\n",
       "      <td>0</td>\n",
       "      <td>0</td>\n",
       "      <td>0</td>\n",
       "    </tr>\n",
       "    <tr>\n",
       "      <th>47</th>\n",
       "      <td>469953606</td>\n",
       "      <td>Abdoullah Bamoussa</td>\n",
       "      <td>ITA</td>\n",
       "      <td>male</td>\n",
       "      <td>6/8/86</td>\n",
       "      <td>NaN</td>\n",
       "      <td>NaN</td>\n",
       "      <td>athletics</td>\n",
       "      <td>0</td>\n",
       "      <td>0</td>\n",
       "      <td>0</td>\n",
       "    </tr>\n",
       "    <tr>\n",
       "      <th>50</th>\n",
       "      <td>325809293</td>\n",
       "      <td>Abdul Omar</td>\n",
       "      <td>GHA</td>\n",
       "      <td>male</td>\n",
       "      <td>10/3/93</td>\n",
       "      <td>NaN</td>\n",
       "      <td>NaN</td>\n",
       "      <td>boxing</td>\n",
       "      <td>0</td>\n",
       "      <td>0</td>\n",
       "      <td>0</td>\n",
       "    </tr>\n",
       "    <tr>\n",
       "      <th>52</th>\n",
       "      <td>262868423</td>\n",
       "      <td>Abdulaziz Alshatti</td>\n",
       "      <td>IOA</td>\n",
       "      <td>male</td>\n",
       "      <td>10/30/90</td>\n",
       "      <td>NaN</td>\n",
       "      <td>NaN</td>\n",
       "      <td>fencing</td>\n",
       "      <td>0</td>\n",
       "      <td>0</td>\n",
       "      <td>0</td>\n",
       "    </tr>\n",
       "    <tr>\n",
       "      <th>56</th>\n",
       "      <td>897549624</td>\n",
       "      <td>Abdullah Hel Baki</td>\n",
       "      <td>BAN</td>\n",
       "      <td>male</td>\n",
       "      <td>8/1/89</td>\n",
       "      <td>NaN</td>\n",
       "      <td>NaN</td>\n",
       "      <td>shooting</td>\n",
       "      <td>0</td>\n",
       "      <td>0</td>\n",
       "      <td>0</td>\n",
       "    </tr>\n",
       "  </tbody>\n",
       "</table>\n",
       "</div>"
      ],
      "text/plain": [
       "           id                name nationality   sex       dob  height  weight  \\\n",
       "12  258556239          Abbas Qali         IOA  male  10/11/92     NaN     NaN   \n",
       "47  469953606  Abdoullah Bamoussa         ITA  male    6/8/86     NaN     NaN   \n",
       "50  325809293          Abdul Omar         GHA  male   10/3/93     NaN     NaN   \n",
       "52  262868423  Abdulaziz Alshatti         IOA  male  10/30/90     NaN     NaN   \n",
       "56  897549624   Abdullah Hel Baki         BAN  male    8/1/89     NaN     NaN   \n",
       "\n",
       "        sport  gold  silver  bronze  \n",
       "12   aquatics     0       0       0  \n",
       "47  athletics     0       0       0  \n",
       "50     boxing     0       0       0  \n",
       "52    fencing     0       0       0  \n",
       "56   shooting     0       0       0  "
      ]
     },
     "execution_count": 1022,
     "metadata": {},
     "output_type": "execute_result"
    }
   ],
   "source": [
    "data[ pd.isnull(data['height'])].head()"
   ]
  },
  {
   "cell_type": "code",
   "execution_count": 1023,
   "id": "c2426252",
   "metadata": {},
   "outputs": [],
   "source": [
    "data = data[pd.isnull(data['height']) == 0 ]"
   ]
  },
  {
   "cell_type": "code",
   "execution_count": 1024,
   "id": "b0e84ab8",
   "metadata": {},
   "outputs": [
    {
     "data": {
      "text/plain": [
       "0        1.72\n",
       "1        1.68\n",
       "2        1.98\n",
       "3        1.83\n",
       "4        1.81\n",
       "         ... \n",
       "11203    1.64\n",
       "11204    1.73\n",
       "11205    1.85\n",
       "11206    1.60\n",
       "11207    1.85\n",
       "Name: height, Length: 11208, dtype: float64"
      ]
     },
     "execution_count": 1024,
     "metadata": {},
     "output_type": "execute_result"
    }
   ],
   "source": [
    "X = data ['height']\n",
    "#X = X.astype(np.int)\n",
    "X = X.reset_index(drop=True)\n",
    "X"
   ]
  },
  {
   "cell_type": "code",
   "execution_count": 1025,
   "id": "770d8a29",
   "metadata": {},
   "outputs": [],
   "source": [
    "from sklearn.preprocessing import LabelEncoder\n",
    "le = LabelEncoder()"
   ]
  },
  {
   "cell_type": "code",
   "execution_count": 1026,
   "id": "003604fa",
   "metadata": {},
   "outputs": [
    {
     "data": {
      "text/plain": [
       "LabelEncoder()"
      ]
     },
     "execution_count": 1026,
     "metadata": {},
     "output_type": "execute_result"
    }
   ],
   "source": [
    "le.fit( data['sex'])"
   ]
  },
  {
   "cell_type": "code",
   "execution_count": 1027,
   "id": "66e58127",
   "metadata": {},
   "outputs": [
    {
     "data": {
      "text/plain": [
       "0        1\n",
       "1        0\n",
       "2        1\n",
       "3        1\n",
       "4        1\n",
       "        ..\n",
       "11203    0\n",
       "11204    0\n",
       "11205    1\n",
       "11206    1\n",
       "11207    1\n",
       "Length: 11208, dtype: int32"
      ]
     },
     "execution_count": 1027,
     "metadata": {},
     "output_type": "execute_result"
    }
   ],
   "source": [
    "Y = pd.Series (data = le.transform(data['sex']))\n",
    "Y"
   ]
  },
  {
   "cell_type": "code",
   "execution_count": null,
   "id": "38ec4625",
   "metadata": {},
   "outputs": [],
   "source": [
    "# обычный градиентный спуск"
   ]
  },
  {
   "cell_type": "code",
   "execution_count": 1028,
   "id": "f706f7d4",
   "metadata": {},
   "outputs": [],
   "source": [
    "EPOCHS = 100\n",
    "LEARNING_RATE = 0.0001"
   ]
  },
  {
   "cell_type": "code",
   "execution_count": 1029,
   "id": "290f3172",
   "metadata": {},
   "outputs": [],
   "source": [
    "def cost_function(X, Y, theta0, theta1):\n",
    "    total_cost = 0\n",
    "    for i in range(len(X)):\n",
    "        total_cost += (Y[i]*log(theta0 + theta1*X[i]) + (1 - Y[i])*log(1 - theta0 - theta1*X[i]))\n",
    "        #total_cost += (Y[i]*log(theta0 + theta1*X[i]))\n",
    "    return -total_cost/len(X) "
   ]
  },
  {
   "cell_type": "code",
   "execution_count": 1030,
   "id": "69399f40",
   "metadata": {},
   "outputs": [],
   "source": [
    "def der_theta0(X, Y, theta0, theta1):\n",
    "    total_cost = 0\n",
    "    for i in range(len(X)):\n",
    "        total_cost += (Y[i] / (theta0 + theta1*X[i]) + (1 - Y[i]) / (1 - theta0 - theta1*X[i]))\n",
    "        #total_cost += X[i]\n",
    "    return -total_cost/len(X)    "
   ]
  },
  {
   "cell_type": "code",
   "execution_count": 1031,
   "id": "2136564e",
   "metadata": {},
   "outputs": [],
   "source": [
    "def der_theta1(X, Y, theta0, theta1):\n",
    "    total_cost = 0\n",
    "    for i in range(len(X)):\n",
    "        total_cost += (Y[i] / (theta0 + theta1*X[i]) * X[i] + (1 - Y[i]) / (1 - theta0 - theta1*X[i]) * X[i])\n",
    "        #total_cost += X[i]\n",
    "    return -total_cost/len(X) "
   ]
  },
  {
   "cell_type": "code",
   "execution_count": 1032,
   "id": "e4e2e4d2",
   "metadata": {},
   "outputs": [],
   "source": [
    "theta0 = 0.20\n",
    "theta1 = 0.20\n",
    "for _ in range(EPOCHS):\n",
    "    dt0 = der_theta0(X, Y, theta0, theta1)\n",
    "    dt1 = der_theta1(X, Y, theta0, theta1)\n",
    "    \n",
    "    theta0 = theta0 - LEARNING_RATE * dt0\n",
    "    theta1 -= LEARNING_RATE * dt1\n",
    "    \n",
    "    #print(\"t0:\", theta0, \"t1:\", theta1, \"cost:\", cost_function(X, Y, theta0, theta1))"
   ]
  },
  {
   "cell_type": "code",
   "execution_count": 1033,
   "id": "0f794fa0",
   "metadata": {},
   "outputs": [
    {
     "name": "stdout",
     "output_type": "stream",
     "text": [
      "t0: 0.2198708014139396 t1: 0.23488970588041594 cost: 0.6755116388416587\n"
     ]
    }
   ],
   "source": [
    "print(\"t0:\", theta0, \"t1:\", theta1, \"cost:\", cost_function(X, Y, theta0, theta1))"
   ]
  },
  {
   "cell_type": "code",
   "execution_count": null,
   "id": "a13d9a4a",
   "metadata": {},
   "outputs": [],
   "source": [
    "# Nesterov Accelerated Gradient"
   ]
  },
  {
   "cell_type": "code",
   "execution_count": 1034,
   "id": "486a87da",
   "metadata": {},
   "outputs": [],
   "source": [
    "EPOCHS = 100\n",
    "LEARNING_RATE = 0.0001\n",
    "gamma = 0.9\n",
    "eta = LEARNING_RATE * 0.1"
   ]
  },
  {
   "cell_type": "code",
   "execution_count": 1035,
   "id": "186d1cc1",
   "metadata": {},
   "outputs": [],
   "source": [
    "theta0 = 0.20\n",
    "theta1 = 0.20\n",
    "vtheta0 = 0\n",
    "vtheta1 = 0\n",
    "for _ in range(EPOCHS):\n",
    "    dt0 = der_theta0(X, Y, theta0 - gamma*vtheta0 , theta1)\n",
    "    dt1 = der_theta1(X, Y, theta0, theta1 - gamma*vtheta1)\n",
    "    \n",
    "    vtheta0 = gamma*vtheta0 + eta*dt0\n",
    "    vtheta1 = gamma*vtheta1 + eta*dt1\n",
    "    \n",
    "    theta0 = theta0 - vtheta0\n",
    "    theta1 = theta1 - vtheta1\n",
    "    \n",
    "    \n",
    "    #print(\"t0:\", theta0, \"t1:\", theta1, \"cost:\", cost_function(X, Y, theta0, theta1))"
   ]
  },
  {
   "cell_type": "code",
   "execution_count": 1036,
   "id": "0a75ed8c",
   "metadata": {},
   "outputs": [
    {
     "name": "stdout",
     "output_type": "stream",
     "text": [
      "t0: 0.21799429416496002 t1: 0.23161665808246268 cost: 0.6733921271594489\n"
     ]
    }
   ],
   "source": [
    "print(\"t0:\", theta0, \"t1:\", theta1, \"cost:\", cost_function(X, Y, theta0, theta1))"
   ]
  },
  {
   "cell_type": "code",
   "execution_count": null,
   "id": "968fa7c8",
   "metadata": {},
   "outputs": [],
   "source": [
    "#RMSProp"
   ]
  },
  {
   "cell_type": "code",
   "execution_count": 1037,
   "id": "82bce13a",
   "metadata": {},
   "outputs": [],
   "source": [
    "EPOCHS = 100\n",
    "LEARNING_RATE = 0.0001\n",
    "gamma = 0.9\n",
    "eta = LEARNING_RATE\n",
    "epcilend = 0.00000001"
   ]
  },
  {
   "cell_type": "code",
   "execution_count": 1038,
   "id": "6400b161",
   "metadata": {},
   "outputs": [],
   "source": [
    "theta0 = 0.20\n",
    "theta1 = 0.20\n",
    "E0 = 0\n",
    "E1 = 0\n",
    "for _ in range(EPOCHS):\n",
    "    dt0 = der_theta0(X, Y, theta0, theta1)\n",
    "    dt1 = der_theta1(X, Y, theta0, theta1)\n",
    "    \n",
    "    E0 = gamma*E0 + (1 - gamma)*(dt0**2)\n",
    "    E1 = gamma*E1 + (1 - gamma)*(dt1**2)\n",
    "    \n",
    "    theta0 = theta0 - LEARNING_RATE*dt0/((E0 + epcilend)**0.5)\n",
    "    theta1 = theta1 - LEARNING_RATE*dt1/((E1 + epcilend)**0.5)"
   ]
  },
  {
   "cell_type": "code",
   "execution_count": 1039,
   "id": "b8517236",
   "metadata": {},
   "outputs": [
    {
     "name": "stdout",
     "output_type": "stream",
     "text": [
      "t0: 0.2109208347730115 t1: 0.21091946291378938 cost: 0.6662225480938885\n"
     ]
    }
   ],
   "source": [
    "print(\"t0:\", theta0, \"t1:\", theta1, \"cost:\", cost_function(X, Y, theta0, theta1))"
   ]
  },
  {
   "cell_type": "code",
   "execution_count": null,
   "id": "028367d7",
   "metadata": {},
   "outputs": [],
   "source": [
    "# dataset Iris"
   ]
  },
  {
   "cell_type": "code",
   "execution_count": 1040,
   "id": "fb6d311c",
   "metadata": {},
   "outputs": [],
   "source": [
    "from sklearn import datasets"
   ]
  },
  {
   "cell_type": "code",
   "execution_count": 1041,
   "id": "1730d6c2",
   "metadata": {},
   "outputs": [
    {
     "data": {
      "text/plain": [
       "{'data': array([[5.1, 3.5, 1.4, 0.2],\n",
       "        [4.9, 3. , 1.4, 0.2],\n",
       "        [4.7, 3.2, 1.3, 0.2],\n",
       "        [4.6, 3.1, 1.5, 0.2],\n",
       "        [5. , 3.6, 1.4, 0.2],\n",
       "        [5.4, 3.9, 1.7, 0.4],\n",
       "        [4.6, 3.4, 1.4, 0.3],\n",
       "        [5. , 3.4, 1.5, 0.2],\n",
       "        [4.4, 2.9, 1.4, 0.2],\n",
       "        [4.9, 3.1, 1.5, 0.1],\n",
       "        [5.4, 3.7, 1.5, 0.2],\n",
       "        [4.8, 3.4, 1.6, 0.2],\n",
       "        [4.8, 3. , 1.4, 0.1],\n",
       "        [4.3, 3. , 1.1, 0.1],\n",
       "        [5.8, 4. , 1.2, 0.2],\n",
       "        [5.7, 4.4, 1.5, 0.4],\n",
       "        [5.4, 3.9, 1.3, 0.4],\n",
       "        [5.1, 3.5, 1.4, 0.3],\n",
       "        [5.7, 3.8, 1.7, 0.3],\n",
       "        [5.1, 3.8, 1.5, 0.3],\n",
       "        [5.4, 3.4, 1.7, 0.2],\n",
       "        [5.1, 3.7, 1.5, 0.4],\n",
       "        [4.6, 3.6, 1. , 0.2],\n",
       "        [5.1, 3.3, 1.7, 0.5],\n",
       "        [4.8, 3.4, 1.9, 0.2],\n",
       "        [5. , 3. , 1.6, 0.2],\n",
       "        [5. , 3.4, 1.6, 0.4],\n",
       "        [5.2, 3.5, 1.5, 0.2],\n",
       "        [5.2, 3.4, 1.4, 0.2],\n",
       "        [4.7, 3.2, 1.6, 0.2],\n",
       "        [4.8, 3.1, 1.6, 0.2],\n",
       "        [5.4, 3.4, 1.5, 0.4],\n",
       "        [5.2, 4.1, 1.5, 0.1],\n",
       "        [5.5, 4.2, 1.4, 0.2],\n",
       "        [4.9, 3.1, 1.5, 0.2],\n",
       "        [5. , 3.2, 1.2, 0.2],\n",
       "        [5.5, 3.5, 1.3, 0.2],\n",
       "        [4.9, 3.6, 1.4, 0.1],\n",
       "        [4.4, 3. , 1.3, 0.2],\n",
       "        [5.1, 3.4, 1.5, 0.2],\n",
       "        [5. , 3.5, 1.3, 0.3],\n",
       "        [4.5, 2.3, 1.3, 0.3],\n",
       "        [4.4, 3.2, 1.3, 0.2],\n",
       "        [5. , 3.5, 1.6, 0.6],\n",
       "        [5.1, 3.8, 1.9, 0.4],\n",
       "        [4.8, 3. , 1.4, 0.3],\n",
       "        [5.1, 3.8, 1.6, 0.2],\n",
       "        [4.6, 3.2, 1.4, 0.2],\n",
       "        [5.3, 3.7, 1.5, 0.2],\n",
       "        [5. , 3.3, 1.4, 0.2],\n",
       "        [7. , 3.2, 4.7, 1.4],\n",
       "        [6.4, 3.2, 4.5, 1.5],\n",
       "        [6.9, 3.1, 4.9, 1.5],\n",
       "        [5.5, 2.3, 4. , 1.3],\n",
       "        [6.5, 2.8, 4.6, 1.5],\n",
       "        [5.7, 2.8, 4.5, 1.3],\n",
       "        [6.3, 3.3, 4.7, 1.6],\n",
       "        [4.9, 2.4, 3.3, 1. ],\n",
       "        [6.6, 2.9, 4.6, 1.3],\n",
       "        [5.2, 2.7, 3.9, 1.4],\n",
       "        [5. , 2. , 3.5, 1. ],\n",
       "        [5.9, 3. , 4.2, 1.5],\n",
       "        [6. , 2.2, 4. , 1. ],\n",
       "        [6.1, 2.9, 4.7, 1.4],\n",
       "        [5.6, 2.9, 3.6, 1.3],\n",
       "        [6.7, 3.1, 4.4, 1.4],\n",
       "        [5.6, 3. , 4.5, 1.5],\n",
       "        [5.8, 2.7, 4.1, 1. ],\n",
       "        [6.2, 2.2, 4.5, 1.5],\n",
       "        [5.6, 2.5, 3.9, 1.1],\n",
       "        [5.9, 3.2, 4.8, 1.8],\n",
       "        [6.1, 2.8, 4. , 1.3],\n",
       "        [6.3, 2.5, 4.9, 1.5],\n",
       "        [6.1, 2.8, 4.7, 1.2],\n",
       "        [6.4, 2.9, 4.3, 1.3],\n",
       "        [6.6, 3. , 4.4, 1.4],\n",
       "        [6.8, 2.8, 4.8, 1.4],\n",
       "        [6.7, 3. , 5. , 1.7],\n",
       "        [6. , 2.9, 4.5, 1.5],\n",
       "        [5.7, 2.6, 3.5, 1. ],\n",
       "        [5.5, 2.4, 3.8, 1.1],\n",
       "        [5.5, 2.4, 3.7, 1. ],\n",
       "        [5.8, 2.7, 3.9, 1.2],\n",
       "        [6. , 2.7, 5.1, 1.6],\n",
       "        [5.4, 3. , 4.5, 1.5],\n",
       "        [6. , 3.4, 4.5, 1.6],\n",
       "        [6.7, 3.1, 4.7, 1.5],\n",
       "        [6.3, 2.3, 4.4, 1.3],\n",
       "        [5.6, 3. , 4.1, 1.3],\n",
       "        [5.5, 2.5, 4. , 1.3],\n",
       "        [5.5, 2.6, 4.4, 1.2],\n",
       "        [6.1, 3. , 4.6, 1.4],\n",
       "        [5.8, 2.6, 4. , 1.2],\n",
       "        [5. , 2.3, 3.3, 1. ],\n",
       "        [5.6, 2.7, 4.2, 1.3],\n",
       "        [5.7, 3. , 4.2, 1.2],\n",
       "        [5.7, 2.9, 4.2, 1.3],\n",
       "        [6.2, 2.9, 4.3, 1.3],\n",
       "        [5.1, 2.5, 3. , 1.1],\n",
       "        [5.7, 2.8, 4.1, 1.3],\n",
       "        [6.3, 3.3, 6. , 2.5],\n",
       "        [5.8, 2.7, 5.1, 1.9],\n",
       "        [7.1, 3. , 5.9, 2.1],\n",
       "        [6.3, 2.9, 5.6, 1.8],\n",
       "        [6.5, 3. , 5.8, 2.2],\n",
       "        [7.6, 3. , 6.6, 2.1],\n",
       "        [4.9, 2.5, 4.5, 1.7],\n",
       "        [7.3, 2.9, 6.3, 1.8],\n",
       "        [6.7, 2.5, 5.8, 1.8],\n",
       "        [7.2, 3.6, 6.1, 2.5],\n",
       "        [6.5, 3.2, 5.1, 2. ],\n",
       "        [6.4, 2.7, 5.3, 1.9],\n",
       "        [6.8, 3. , 5.5, 2.1],\n",
       "        [5.7, 2.5, 5. , 2. ],\n",
       "        [5.8, 2.8, 5.1, 2.4],\n",
       "        [6.4, 3.2, 5.3, 2.3],\n",
       "        [6.5, 3. , 5.5, 1.8],\n",
       "        [7.7, 3.8, 6.7, 2.2],\n",
       "        [7.7, 2.6, 6.9, 2.3],\n",
       "        [6. , 2.2, 5. , 1.5],\n",
       "        [6.9, 3.2, 5.7, 2.3],\n",
       "        [5.6, 2.8, 4.9, 2. ],\n",
       "        [7.7, 2.8, 6.7, 2. ],\n",
       "        [6.3, 2.7, 4.9, 1.8],\n",
       "        [6.7, 3.3, 5.7, 2.1],\n",
       "        [7.2, 3.2, 6. , 1.8],\n",
       "        [6.2, 2.8, 4.8, 1.8],\n",
       "        [6.1, 3. , 4.9, 1.8],\n",
       "        [6.4, 2.8, 5.6, 2.1],\n",
       "        [7.2, 3. , 5.8, 1.6],\n",
       "        [7.4, 2.8, 6.1, 1.9],\n",
       "        [7.9, 3.8, 6.4, 2. ],\n",
       "        [6.4, 2.8, 5.6, 2.2],\n",
       "        [6.3, 2.8, 5.1, 1.5],\n",
       "        [6.1, 2.6, 5.6, 1.4],\n",
       "        [7.7, 3. , 6.1, 2.3],\n",
       "        [6.3, 3.4, 5.6, 2.4],\n",
       "        [6.4, 3.1, 5.5, 1.8],\n",
       "        [6. , 3. , 4.8, 1.8],\n",
       "        [6.9, 3.1, 5.4, 2.1],\n",
       "        [6.7, 3.1, 5.6, 2.4],\n",
       "        [6.9, 3.1, 5.1, 2.3],\n",
       "        [5.8, 2.7, 5.1, 1.9],\n",
       "        [6.8, 3.2, 5.9, 2.3],\n",
       "        [6.7, 3.3, 5.7, 2.5],\n",
       "        [6.7, 3. , 5.2, 2.3],\n",
       "        [6.3, 2.5, 5. , 1.9],\n",
       "        [6.5, 3. , 5.2, 2. ],\n",
       "        [6.2, 3.4, 5.4, 2.3],\n",
       "        [5.9, 3. , 5.1, 1.8]]),\n",
       " 'target': array([0, 0, 0, 0, 0, 0, 0, 0, 0, 0, 0, 0, 0, 0, 0, 0, 0, 0, 0, 0, 0, 0,\n",
       "        0, 0, 0, 0, 0, 0, 0, 0, 0, 0, 0, 0, 0, 0, 0, 0, 0, 0, 0, 0, 0, 0,\n",
       "        0, 0, 0, 0, 0, 0, 1, 1, 1, 1, 1, 1, 1, 1, 1, 1, 1, 1, 1, 1, 1, 1,\n",
       "        1, 1, 1, 1, 1, 1, 1, 1, 1, 1, 1, 1, 1, 1, 1, 1, 1, 1, 1, 1, 1, 1,\n",
       "        1, 1, 1, 1, 1, 1, 1, 1, 1, 1, 1, 1, 2, 2, 2, 2, 2, 2, 2, 2, 2, 2,\n",
       "        2, 2, 2, 2, 2, 2, 2, 2, 2, 2, 2, 2, 2, 2, 2, 2, 2, 2, 2, 2, 2, 2,\n",
       "        2, 2, 2, 2, 2, 2, 2, 2, 2, 2, 2, 2, 2, 2, 2, 2, 2, 2]),\n",
       " 'frame': None,\n",
       " 'target_names': array(['setosa', 'versicolor', 'virginica'], dtype='<U10'),\n",
       " 'DESCR': '.. _iris_dataset:\\n\\nIris plants dataset\\n--------------------\\n\\n**Data Set Characteristics:**\\n\\n    :Number of Instances: 150 (50 in each of three classes)\\n    :Number of Attributes: 4 numeric, predictive attributes and the class\\n    :Attribute Information:\\n        - sepal length in cm\\n        - sepal width in cm\\n        - petal length in cm\\n        - petal width in cm\\n        - class:\\n                - Iris-Setosa\\n                - Iris-Versicolour\\n                - Iris-Virginica\\n                \\n    :Summary Statistics:\\n\\n    ============== ==== ==== ======= ===== ====================\\n                    Min  Max   Mean    SD   Class Correlation\\n    ============== ==== ==== ======= ===== ====================\\n    sepal length:   4.3  7.9   5.84   0.83    0.7826\\n    sepal width:    2.0  4.4   3.05   0.43   -0.4194\\n    petal length:   1.0  6.9   3.76   1.76    0.9490  (high!)\\n    petal width:    0.1  2.5   1.20   0.76    0.9565  (high!)\\n    ============== ==== ==== ======= ===== ====================\\n\\n    :Missing Attribute Values: None\\n    :Class Distribution: 33.3% for each of 3 classes.\\n    :Creator: R.A. Fisher\\n    :Donor: Michael Marshall (MARSHALL%PLU@io.arc.nasa.gov)\\n    :Date: July, 1988\\n\\nThe famous Iris database, first used by Sir R.A. Fisher. The dataset is taken\\nfrom Fisher\\'s paper. Note that it\\'s the same as in R, but not as in the UCI\\nMachine Learning Repository, which has two wrong data points.\\n\\nThis is perhaps the best known database to be found in the\\npattern recognition literature.  Fisher\\'s paper is a classic in the field and\\nis referenced frequently to this day.  (See Duda & Hart, for example.)  The\\ndata set contains 3 classes of 50 instances each, where each class refers to a\\ntype of iris plant.  One class is linearly separable from the other 2; the\\nlatter are NOT linearly separable from each other.\\n\\n.. topic:: References\\n\\n   - Fisher, R.A. \"The use of multiple measurements in taxonomic problems\"\\n     Annual Eugenics, 7, Part II, 179-188 (1936); also in \"Contributions to\\n     Mathematical Statistics\" (John Wiley, NY, 1950).\\n   - Duda, R.O., & Hart, P.E. (1973) Pattern Classification and Scene Analysis.\\n     (Q327.D83) John Wiley & Sons.  ISBN 0-471-22361-1.  See page 218.\\n   - Dasarathy, B.V. (1980) \"Nosing Around the Neighborhood: A New System\\n     Structure and Classification Rule for Recognition in Partially Exposed\\n     Environments\".  IEEE Transactions on Pattern Analysis and Machine\\n     Intelligence, Vol. PAMI-2, No. 1, 67-71.\\n   - Gates, G.W. (1972) \"The Reduced Nearest Neighbor Rule\".  IEEE Transactions\\n     on Information Theory, May 1972, 431-433.\\n   - See also: 1988 MLC Proceedings, 54-64.  Cheeseman et al\"s AUTOCLASS II\\n     conceptual clustering system finds 3 classes in the data.\\n   - Many, many more ...',\n",
       " 'feature_names': ['sepal length (cm)',\n",
       "  'sepal width (cm)',\n",
       "  'petal length (cm)',\n",
       "  'petal width (cm)'],\n",
       " 'filename': 'C:\\\\ProgramData\\\\Anaconda3\\\\lib\\\\site-packages\\\\sklearn\\\\datasets\\\\data\\\\iris.csv'}"
      ]
     },
     "execution_count": 1041,
     "metadata": {},
     "output_type": "execute_result"
    }
   ],
   "source": [
    "iris = datasets.load_iris()\n",
    "type(iris)\n",
    "iris"
   ]
  },
  {
   "cell_type": "code",
   "execution_count": 1042,
   "id": "18eb09c1",
   "metadata": {},
   "outputs": [],
   "source": [
    "X = iris.data[50:] # забираем данные из датасета\n",
    "Y = iris.target[:100]\n",
    "#len(iris.data)"
   ]
  },
  {
   "cell_type": "code",
   "execution_count": 1043,
   "id": "57ef2de6",
   "metadata": {},
   "outputs": [
    {
     "data": {
      "text/plain": [
       "array([[7. , 3.2, 4.7, 1.4],\n",
       "       [6.4, 3.2, 4.5, 1.5],\n",
       "       [6.9, 3.1, 4.9, 1.5],\n",
       "       [5.5, 2.3, 4. , 1.3],\n",
       "       [6.5, 2.8, 4.6, 1.5],\n",
       "       [5.7, 2.8, 4.5, 1.3],\n",
       "       [6.3, 3.3, 4.7, 1.6],\n",
       "       [4.9, 2.4, 3.3, 1. ],\n",
       "       [6.6, 2.9, 4.6, 1.3],\n",
       "       [5.2, 2.7, 3.9, 1.4],\n",
       "       [5. , 2. , 3.5, 1. ],\n",
       "       [5.9, 3. , 4.2, 1.5],\n",
       "       [6. , 2.2, 4. , 1. ],\n",
       "       [6.1, 2.9, 4.7, 1.4],\n",
       "       [5.6, 2.9, 3.6, 1.3],\n",
       "       [6.7, 3.1, 4.4, 1.4],\n",
       "       [5.6, 3. , 4.5, 1.5],\n",
       "       [5.8, 2.7, 4.1, 1. ],\n",
       "       [6.2, 2.2, 4.5, 1.5],\n",
       "       [5.6, 2.5, 3.9, 1.1],\n",
       "       [5.9, 3.2, 4.8, 1.8],\n",
       "       [6.1, 2.8, 4. , 1.3],\n",
       "       [6.3, 2.5, 4.9, 1.5],\n",
       "       [6.1, 2.8, 4.7, 1.2],\n",
       "       [6.4, 2.9, 4.3, 1.3],\n",
       "       [6.6, 3. , 4.4, 1.4],\n",
       "       [6.8, 2.8, 4.8, 1.4],\n",
       "       [6.7, 3. , 5. , 1.7],\n",
       "       [6. , 2.9, 4.5, 1.5],\n",
       "       [5.7, 2.6, 3.5, 1. ],\n",
       "       [5.5, 2.4, 3.8, 1.1],\n",
       "       [5.5, 2.4, 3.7, 1. ],\n",
       "       [5.8, 2.7, 3.9, 1.2],\n",
       "       [6. , 2.7, 5.1, 1.6],\n",
       "       [5.4, 3. , 4.5, 1.5],\n",
       "       [6. , 3.4, 4.5, 1.6],\n",
       "       [6.7, 3.1, 4.7, 1.5],\n",
       "       [6.3, 2.3, 4.4, 1.3],\n",
       "       [5.6, 3. , 4.1, 1.3],\n",
       "       [5.5, 2.5, 4. , 1.3],\n",
       "       [5.5, 2.6, 4.4, 1.2],\n",
       "       [6.1, 3. , 4.6, 1.4],\n",
       "       [5.8, 2.6, 4. , 1.2],\n",
       "       [5. , 2.3, 3.3, 1. ],\n",
       "       [5.6, 2.7, 4.2, 1.3],\n",
       "       [5.7, 3. , 4.2, 1.2],\n",
       "       [5.7, 2.9, 4.2, 1.3],\n",
       "       [6.2, 2.9, 4.3, 1.3],\n",
       "       [5.1, 2.5, 3. , 1.1],\n",
       "       [5.7, 2.8, 4.1, 1.3],\n",
       "       [6.3, 3.3, 6. , 2.5],\n",
       "       [5.8, 2.7, 5.1, 1.9],\n",
       "       [7.1, 3. , 5.9, 2.1],\n",
       "       [6.3, 2.9, 5.6, 1.8],\n",
       "       [6.5, 3. , 5.8, 2.2],\n",
       "       [7.6, 3. , 6.6, 2.1],\n",
       "       [4.9, 2.5, 4.5, 1.7],\n",
       "       [7.3, 2.9, 6.3, 1.8],\n",
       "       [6.7, 2.5, 5.8, 1.8],\n",
       "       [7.2, 3.6, 6.1, 2.5],\n",
       "       [6.5, 3.2, 5.1, 2. ],\n",
       "       [6.4, 2.7, 5.3, 1.9],\n",
       "       [6.8, 3. , 5.5, 2.1],\n",
       "       [5.7, 2.5, 5. , 2. ],\n",
       "       [5.8, 2.8, 5.1, 2.4],\n",
       "       [6.4, 3.2, 5.3, 2.3],\n",
       "       [6.5, 3. , 5.5, 1.8],\n",
       "       [7.7, 3.8, 6.7, 2.2],\n",
       "       [7.7, 2.6, 6.9, 2.3],\n",
       "       [6. , 2.2, 5. , 1.5],\n",
       "       [6.9, 3.2, 5.7, 2.3],\n",
       "       [5.6, 2.8, 4.9, 2. ],\n",
       "       [7.7, 2.8, 6.7, 2. ],\n",
       "       [6.3, 2.7, 4.9, 1.8],\n",
       "       [6.7, 3.3, 5.7, 2.1],\n",
       "       [7.2, 3.2, 6. , 1.8],\n",
       "       [6.2, 2.8, 4.8, 1.8],\n",
       "       [6.1, 3. , 4.9, 1.8],\n",
       "       [6.4, 2.8, 5.6, 2.1],\n",
       "       [7.2, 3. , 5.8, 1.6],\n",
       "       [7.4, 2.8, 6.1, 1.9],\n",
       "       [7.9, 3.8, 6.4, 2. ],\n",
       "       [6.4, 2.8, 5.6, 2.2],\n",
       "       [6.3, 2.8, 5.1, 1.5],\n",
       "       [6.1, 2.6, 5.6, 1.4],\n",
       "       [7.7, 3. , 6.1, 2.3],\n",
       "       [6.3, 3.4, 5.6, 2.4],\n",
       "       [6.4, 3.1, 5.5, 1.8],\n",
       "       [6. , 3. , 4.8, 1.8],\n",
       "       [6.9, 3.1, 5.4, 2.1],\n",
       "       [6.7, 3.1, 5.6, 2.4],\n",
       "       [6.9, 3.1, 5.1, 2.3],\n",
       "       [5.8, 2.7, 5.1, 1.9],\n",
       "       [6.8, 3.2, 5.9, 2.3],\n",
       "       [6.7, 3.3, 5.7, 2.5],\n",
       "       [6.7, 3. , 5.2, 2.3],\n",
       "       [6.3, 2.5, 5. , 1.9],\n",
       "       [6.5, 3. , 5.2, 2. ],\n",
       "       [6.2, 3.4, 5.4, 2.3],\n",
       "       [5.9, 3. , 5.1, 1.8]])"
      ]
     },
     "execution_count": 1043,
     "metadata": {},
     "output_type": "execute_result"
    }
   ],
   "source": [
    "X"
   ]
  },
  {
   "cell_type": "code",
   "execution_count": 1044,
   "id": "6aa11ce2",
   "metadata": {},
   "outputs": [
    {
     "data": {
      "text/plain": [
       "array([0, 0, 0, 0, 0, 0, 0, 0, 0, 0, 0, 0, 0, 0, 0, 0, 0, 0, 0, 0, 0, 0,\n",
       "       0, 0, 0, 0, 0, 0, 0, 0, 0, 0, 0, 0, 0, 0, 0, 0, 0, 0, 0, 0, 0, 0,\n",
       "       0, 0, 0, 0, 0, 0, 1, 1, 1, 1, 1, 1, 1, 1, 1, 1, 1, 1, 1, 1, 1, 1,\n",
       "       1, 1, 1, 1, 1, 1, 1, 1, 1, 1, 1, 1, 1, 1, 1, 1, 1, 1, 1, 1, 1, 1,\n",
       "       1, 1, 1, 1, 1, 1, 1, 1, 1, 1, 1, 1])"
      ]
     },
     "execution_count": 1044,
     "metadata": {},
     "output_type": "execute_result"
    }
   ],
   "source": [
    "Y"
   ]
  },
  {
   "cell_type": "code",
   "execution_count": 1045,
   "id": "5af1c714",
   "metadata": {},
   "outputs": [],
   "source": [
    "def cost_function(X, Y, theta0, theta1, theta2, theta3, theta4):\n",
    "    total_cost = 0\n",
    "    for i in range(len(X)):\n",
    "        total_cost += (Y[i]*log(theta0 + theta1*X[i,0] + theta2*X[i,1] + theta3*X[i,2] + theta4*X[i,3]) + (1 - Y[i])*log(1 - theta0 - theta1*X[i,0] - theta2*X[i,1] - theta3*X[i,2] - theta4*X[i,3]))\n",
    "       # total_cost += (Y[i]*log(theta0 + theta1*X[i,0] + theta2*X[i,1] + theta3*X[i,2] + theta4*X[i,3]))\n",
    "    return -total_cost/len(X) "
   ]
  },
  {
   "cell_type": "code",
   "execution_count": 1046,
   "id": "55f7a3a3",
   "metadata": {},
   "outputs": [],
   "source": [
    "def der_theta0(X, Y, theta0, theta1, theta2, theta3, theta4):\n",
    "    total_cost = 0\n",
    "    for i in range(len(X)):\n",
    "        total_cost += (Y[i] / (theta0 + theta1*X[i,0] + theta2*X[i,1] + theta3*X[i,2] + theta4*X[i,3]) + (1 - Y[i]) / (1 - theta0 - theta1*X[i,0] - theta2*X[i,1] - theta3*X[i,2] - theta4*X[i,3]))\n",
    "        #total_cost += X[i]\n",
    "    return -total_cost/len(X)   "
   ]
  },
  {
   "cell_type": "code",
   "execution_count": 1047,
   "id": "6c005e3d",
   "metadata": {},
   "outputs": [],
   "source": [
    "def der_theta1(X, Y, theta0, theta1, theta2, theta3, theta4):\n",
    "    total_cost = 0\n",
    "    for i in range(len(X)):\n",
    "        total_cost += (Y[i] / (theta0 + theta1*X[i,0] + theta2*X[i,1] + theta1*X[i,2] + theta1*X[i,3]) * X[i,0] + (1 - Y[i]) / (1 - theta0 - theta1*X[i,0] - theta2*X[i,1] - theta1*X[i,2] - theta1*X[i,3]) * X[i,0])\n",
    "        #total_cost += X[i]\n",
    "    return -total_cost/len(X) "
   ]
  },
  {
   "cell_type": "code",
   "execution_count": 1048,
   "id": "3e0cd6d6",
   "metadata": {},
   "outputs": [],
   "source": [
    "def der_theta2(X, Y, theta0, theta1, theta2, theta3, theta4):\n",
    "    total_cost = 0\n",
    "    for i in range(len(X)):\n",
    "        total_cost += (Y[i] / (theta0 + theta1*X[i,0] + theta2*X[i,1] + theta1*X[i,2] + theta1*X[i,3]) * X[i,1] + (1 - Y[i]) / (1 - theta0 - theta1*X[i,0] - theta2*X[i,1] - theta1*X[i,2] - theta1*X[i,3]) * X[i,1])\n",
    "        #total_cost += X[i]\n",
    "    return -total_cost/len(X) "
   ]
  },
  {
   "cell_type": "code",
   "execution_count": 1049,
   "id": "35c2f239",
   "metadata": {},
   "outputs": [],
   "source": [
    "def der_theta3(X, Y, theta0, theta1, theta2, theta3, theta4):\n",
    "    total_cost = 0\n",
    "    for i in range(len(X)):\n",
    "        total_cost += (Y[i] / (theta0 + theta1*X[i,0] + theta2*X[i,1] + theta1*X[i,2] + theta1*X[i,3]) * X[i,2] + (1 - Y[i]) / (1 - theta0 - theta1*X[i,0] - theta2*X[i,1] - theta1*X[i,2] - theta1*X[i,3]) * X[i,2])\n",
    "        #total_cost += X[i]\n",
    "    return -total_cost/len(X) "
   ]
  },
  {
   "cell_type": "code",
   "execution_count": 1050,
   "id": "8cfbd6ea",
   "metadata": {},
   "outputs": [],
   "source": [
    "def der_theta4(X, Y, theta0, theta1, theta2, theta3, theta4):\n",
    "    total_cost = 0\n",
    "    for i in range(len(X)):\n",
    "        total_cost += (Y[i] / (theta0 + theta1*X[i,0] + theta2*X[i,1] + theta1*X[i,2] + theta1*X[i,3]) * X[i,3] + (1 - Y[i]) / (1 - theta0 - theta1*X[i,0] - theta2*X[i,1] - theta1*X[i,2] - theta1*X[i,3]) * X[i,3])\n",
    "        #total_cost += X[i]\n",
    "    return -total_cost/len(X) "
   ]
  },
  {
   "cell_type": "code",
   "execution_count": null,
   "id": "53d0fed7",
   "metadata": {},
   "outputs": [],
   "source": [
    "# обычный градиентный спуск"
   ]
  },
  {
   "cell_type": "code",
   "execution_count": 1051,
   "id": "5abbf7a4",
   "metadata": {},
   "outputs": [],
   "source": [
    "EPOCHS = 20\n",
    "LEARNING_RATE = 0.0001"
   ]
  },
  {
   "cell_type": "code",
   "execution_count": 1052,
   "id": "3c9ed008",
   "metadata": {},
   "outputs": [],
   "source": [
    "theta0 = 0.01\n",
    "theta1 = 0.01\n",
    "theta2 = 0.01\n",
    "theta3 = 0.01\n",
    "theta4 = 0.01\n",
    "\n",
    "for _ in range(EPOCHS):\n",
    "    dt0 = der_theta0(X, Y, theta0, theta1, theta2, theta3, theta4)\n",
    "    dt1 = der_theta1(X, Y, theta0, theta1, theta2, theta3, theta4)\n",
    "    dt2 = der_theta2(X, Y, theta0, theta1, theta2, theta3, theta4)\n",
    "    dt3 = der_theta3(X, Y, theta0, theta1, theta2, theta3, theta4)\n",
    "    dt4 = der_theta4(X, Y, theta0, theta1, theta2, theta3, theta4)\n",
    "    \n",
    "    theta0 = theta0 - LEARNING_RATE * dt0\n",
    "    theta1 -= LEARNING_RATE * dt1\n",
    "    theta2 -= LEARNING_RATE * dt2\n",
    "    theta3 -= LEARNING_RATE * dt3\n",
    "    theta4 -= LEARNING_RATE * dt4"
   ]
  },
  {
   "cell_type": "code",
   "execution_count": 1053,
   "id": "dea6a271",
   "metadata": {},
   "outputs": [
    {
     "name": "stdout",
     "output_type": "stream",
     "text": [
      "t0: 0.014456690126836202 t1: 0.03733384462788538 t2: 0.02249317568098778 t3: 0.03188599542280583 t4: 0.0176385205666284 cost: 0.6169256187890947\n"
     ]
    }
   ],
   "source": [
    "print(\"t0:\", theta0, \"t1:\", theta1, \"t2:\", theta2, \"t3:\", theta3, \"t4:\", theta4, \"cost:\", cost_function(X, Y, theta0, theta1, theta2, theta3, theta4))"
   ]
  },
  {
   "cell_type": "code",
   "execution_count": null,
   "id": "6c9f1983",
   "metadata": {},
   "outputs": [],
   "source": [
    "# Nesterov Accelerated Gradient"
   ]
  },
  {
   "cell_type": "code",
   "execution_count": 1054,
   "id": "6974d0af",
   "metadata": {},
   "outputs": [],
   "source": [
    "EPOCHS = 20\n",
    "LEARNING_RATE = 0.0001\n",
    "gamma = 0.9\n",
    "eta = LEARNING_RATE * 0.1"
   ]
  },
  {
   "cell_type": "code",
   "execution_count": 1055,
   "id": "81a4c75e",
   "metadata": {},
   "outputs": [],
   "source": [
    "theta0 = 0.01\n",
    "theta1 = 0.01\n",
    "theta2 = 0.01\n",
    "theta3 = 0.01\n",
    "theta4 = 0.01\n",
    "\n",
    "vtheta0 = 0\n",
    "vtheta1 = 0\n",
    "vtheta2 = 0\n",
    "vtheta3 = 0\n",
    "vtheta4 = 0\n",
    "\n",
    "for _ in range(EPOCHS):\n",
    "    dt0 = der_theta0(X, Y, theta0 - gamma*vtheta0, theta1, theta2, theta3, theta4)\n",
    "    dt1 = der_theta1(X, Y, theta0, theta1 - gamma*vtheta1, theta2, theta3, theta4)\n",
    "    dt2 = der_theta2(X, Y, theta0, theta1, theta2 - gamma*vtheta2, theta3, theta4)\n",
    "    dt3 = der_theta3(X, Y, theta0, theta1, theta2, theta3 - gamma*vtheta3, theta4)\n",
    "    dt4 = der_theta4(X, Y, theta0, theta1, theta2, theta3, theta4 - gamma*vtheta4)\n",
    "    \n",
    "    vtheta0 = gamma*vtheta0 + eta*dt0\n",
    "    vtheta1 = gamma*vtheta1 + eta*dt1\n",
    "    vtheta2 = gamma*vtheta2 + eta*dt2\n",
    "    vtheta3 = gamma*vtheta3 + eta*dt3\n",
    "    vtheta4 = gamma*vtheta4 + eta*dt4\n",
    "    \n",
    "    theta0 = theta0 - vtheta0\n",
    "    theta1 = theta1 - vtheta1\n",
    "    theta2 = theta2 - vtheta2\n",
    "    theta3 = theta3 - vtheta3\n",
    "    theta4 = theta4 - vtheta4\n",
    "    \n",
    "    \n",
    "    #print(\"t0:\", theta0, \"t1:\", theta1, \"cost:\", cost_function(X, Y, theta0, theta1))"
   ]
  },
  {
   "cell_type": "code",
   "execution_count": 1056,
   "id": "8bd993c1",
   "metadata": {},
   "outputs": [
    {
     "name": "stdout",
     "output_type": "stream",
     "text": [
      "t0: 0.013288023897322764 t1: 0.030071773033887736 t2: 0.01933788508141252 t3: 0.026734766226966678 t4: 0.015931448546542194 cost: 0.6414033864432689\n"
     ]
    }
   ],
   "source": [
    "print(\"t0:\", theta0, \"t1:\", theta1, \"t2:\", theta2, \"t3:\", theta3, \"t4:\", theta4, \"cost:\", cost_function(X, Y, theta0, theta1, theta2, theta3, theta4))"
   ]
  },
  {
   "cell_type": "code",
   "execution_count": null,
   "id": "18d69356",
   "metadata": {},
   "outputs": [],
   "source": [
    "#RMSProp"
   ]
  },
  {
   "cell_type": "code",
   "execution_count": 1057,
   "id": "226c4977",
   "metadata": {},
   "outputs": [],
   "source": [
    "EPOCHS = 20\n",
    "LEARNING_RATE = 0.0001\n",
    "gamma = 0.9\n",
    "eta = LEARNING_RATE\n",
    "epcilend = 0.00000001"
   ]
  },
  {
   "cell_type": "code",
   "execution_count": 1058,
   "id": "01f7258a",
   "metadata": {},
   "outputs": [],
   "source": [
    "theta0 = 0.01\n",
    "theta1 = 0.01\n",
    "theta2 = 0.01\n",
    "theta3 = 0.01\n",
    "theta4 = 0.01\n",
    "E0 = 0\n",
    "E1 = 0\n",
    "E2 = 0\n",
    "E3 = 0\n",
    "E4 = 0\n",
    "\n",
    "for _ in range(EPOCHS):\n",
    "    dt0 = der_theta0(X, Y, theta0, theta1, theta2, theta3, theta4)\n",
    "    dt1 = der_theta1(X, Y, theta0, theta1, theta2, theta3, theta4)\n",
    "    dt2 = der_theta2(X, Y, theta0, theta1, theta2, theta3, theta4)\n",
    "    dt3 = der_theta3(X, Y, theta0, theta1, theta2, theta3, theta4)\n",
    "    dt4 = der_theta4(X, Y, theta0, theta1, theta2, theta3, theta4)\n",
    "    \n",
    "    E0 = gamma*E0 + (1 - gamma)*(dt0**2)\n",
    "    E1 = gamma*E1 + (1 - gamma)*(dt1**2)\n",
    "    E2 = gamma*E2 + (1 - gamma)*(dt2**2)\n",
    "    E3 = gamma*E3 + (1 - gamma)*(dt3**2)\n",
    "    E4 = gamma*E4 + (1 - gamma)*(dt4**2)\n",
    "    \n",
    "    theta0 = theta0 - LEARNING_RATE*dt0/((E0 + epcilend)**0.5)\n",
    "    theta1 = theta1 - LEARNING_RATE*dt1/((E1 + epcilend)**0.5)\n",
    "    theta3 = theta2 - LEARNING_RATE*dt2/((E2 + epcilend)**0.5)\n",
    "    theta4 = theta3 - LEARNING_RATE*dt3/((E3 + epcilend)**0.5)\n",
    "    theta5 = theta4 - LEARNING_RATE*dt4/((E4 + epcilend)**0.5)"
   ]
  },
  {
   "cell_type": "code",
   "execution_count": 1059,
   "id": "612864a3",
   "metadata": {},
   "outputs": [
    {
     "name": "stdout",
     "output_type": "stream",
     "text": [
      "t0: 0.012819499348585141 t1: 0.012783753291646386 t2: 0.01 t3: 0.010102495395240744 t4: 0.010204793930050617 cost: 0.89254180536112\n"
     ]
    }
   ],
   "source": [
    "print(\"t0:\", theta0, \"t1:\", theta1, \"t2:\", theta2, \"t3:\", theta3, \"t4:\", theta4, \"cost:\", cost_function(X, Y, theta0, theta1, theta2, theta3, theta4))"
   ]
  },
  {
   "cell_type": "code",
   "execution_count": null,
   "id": "426926e2",
   "metadata": {},
   "outputs": [],
   "source": []
  }
 ],
 "metadata": {
  "kernelspec": {
   "display_name": "Python 3 (ipykernel)",
   "language": "python",
   "name": "python3"
  },
  "language_info": {
   "codemirror_mode": {
    "name": "ipython",
    "version": 3
   },
   "file_extension": ".py",
   "mimetype": "text/x-python",
   "name": "python",
   "nbconvert_exporter": "python",
   "pygments_lexer": "ipython3",
   "version": "3.8.5"
  }
 },
 "nbformat": 4,
 "nbformat_minor": 5
}
