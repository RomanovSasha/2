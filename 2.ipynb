{
 "cells": [
  {
   "cell_type": "code",
   "execution_count": 1443,
   "id": "44dcba27",
   "metadata": {},
   "outputs": [
    {
     "data": {
      "text/html": [
       "<div>\n",
       "<style scoped>\n",
       "    .dataframe tbody tr th:only-of-type {\n",
       "        vertical-align: middle;\n",
       "    }\n",
       "\n",
       "    .dataframe tbody tr th {\n",
       "        vertical-align: top;\n",
       "    }\n",
       "\n",
       "    .dataframe thead th {\n",
       "        text-align: right;\n",
       "    }\n",
       "</style>\n",
       "<table border=\"1\" class=\"dataframe\">\n",
       "  <thead>\n",
       "    <tr style=\"text-align: right;\">\n",
       "      <th></th>\n",
       "      <th>id</th>\n",
       "      <th>name</th>\n",
       "      <th>nationality</th>\n",
       "      <th>sex</th>\n",
       "      <th>dob</th>\n",
       "      <th>height</th>\n",
       "      <th>weight</th>\n",
       "      <th>sport</th>\n",
       "      <th>gold</th>\n",
       "      <th>silver</th>\n",
       "      <th>bronze</th>\n",
       "    </tr>\n",
       "  </thead>\n",
       "  <tbody>\n",
       "    <tr>\n",
       "      <th>0</th>\n",
       "      <td>736041664</td>\n",
       "      <td>A Jesus Garcia</td>\n",
       "      <td>ESP</td>\n",
       "      <td>male</td>\n",
       "      <td>10/17/69</td>\n",
       "      <td>1.72</td>\n",
       "      <td>64.0</td>\n",
       "      <td>athletics</td>\n",
       "      <td>0</td>\n",
       "      <td>0</td>\n",
       "      <td>0</td>\n",
       "    </tr>\n",
       "    <tr>\n",
       "      <th>1</th>\n",
       "      <td>532037425</td>\n",
       "      <td>A Lam Shin</td>\n",
       "      <td>KOR</td>\n",
       "      <td>female</td>\n",
       "      <td>9/23/86</td>\n",
       "      <td>1.68</td>\n",
       "      <td>56.0</td>\n",
       "      <td>fencing</td>\n",
       "      <td>0</td>\n",
       "      <td>0</td>\n",
       "      <td>0</td>\n",
       "    </tr>\n",
       "    <tr>\n",
       "      <th>2</th>\n",
       "      <td>435962603</td>\n",
       "      <td>Aaron Brown</td>\n",
       "      <td>CAN</td>\n",
       "      <td>male</td>\n",
       "      <td>5/27/92</td>\n",
       "      <td>1.98</td>\n",
       "      <td>79.0</td>\n",
       "      <td>athletics</td>\n",
       "      <td>0</td>\n",
       "      <td>0</td>\n",
       "      <td>1</td>\n",
       "    </tr>\n",
       "    <tr>\n",
       "      <th>3</th>\n",
       "      <td>521041435</td>\n",
       "      <td>Aaron Cook</td>\n",
       "      <td>MDA</td>\n",
       "      <td>male</td>\n",
       "      <td>1/2/91</td>\n",
       "      <td>1.83</td>\n",
       "      <td>80.0</td>\n",
       "      <td>taekwondo</td>\n",
       "      <td>0</td>\n",
       "      <td>0</td>\n",
       "      <td>0</td>\n",
       "    </tr>\n",
       "    <tr>\n",
       "      <th>4</th>\n",
       "      <td>33922579</td>\n",
       "      <td>Aaron Gate</td>\n",
       "      <td>NZL</td>\n",
       "      <td>male</td>\n",
       "      <td>11/26/90</td>\n",
       "      <td>1.81</td>\n",
       "      <td>71.0</td>\n",
       "      <td>cycling</td>\n",
       "      <td>0</td>\n",
       "      <td>0</td>\n",
       "      <td>0</td>\n",
       "    </tr>\n",
       "    <tr>\n",
       "      <th>...</th>\n",
       "      <td>...</td>\n",
       "      <td>...</td>\n",
       "      <td>...</td>\n",
       "      <td>...</td>\n",
       "      <td>...</td>\n",
       "      <td>...</td>\n",
       "      <td>...</td>\n",
       "      <td>...</td>\n",
       "      <td>...</td>\n",
       "      <td>...</td>\n",
       "      <td>...</td>\n",
       "    </tr>\n",
       "    <tr>\n",
       "      <th>11533</th>\n",
       "      <td>265605954</td>\n",
       "      <td>Zurian Hechavarria</td>\n",
       "      <td>CUB</td>\n",
       "      <td>female</td>\n",
       "      <td>8/10/95</td>\n",
       "      <td>1.64</td>\n",
       "      <td>58.0</td>\n",
       "      <td>athletics</td>\n",
       "      <td>0</td>\n",
       "      <td>0</td>\n",
       "      <td>0</td>\n",
       "    </tr>\n",
       "    <tr>\n",
       "      <th>11534</th>\n",
       "      <td>214461847</td>\n",
       "      <td>Zuzana Hejnova</td>\n",
       "      <td>CZE</td>\n",
       "      <td>female</td>\n",
       "      <td>12/19/86</td>\n",
       "      <td>1.73</td>\n",
       "      <td>63.0</td>\n",
       "      <td>athletics</td>\n",
       "      <td>0</td>\n",
       "      <td>0</td>\n",
       "      <td>0</td>\n",
       "    </tr>\n",
       "    <tr>\n",
       "      <th>11535</th>\n",
       "      <td>88361042</td>\n",
       "      <td>di Xiao</td>\n",
       "      <td>CHN</td>\n",
       "      <td>male</td>\n",
       "      <td>5/14/91</td>\n",
       "      <td>1.85</td>\n",
       "      <td>100.0</td>\n",
       "      <td>wrestling</td>\n",
       "      <td>0</td>\n",
       "      <td>0</td>\n",
       "      <td>0</td>\n",
       "    </tr>\n",
       "    <tr>\n",
       "      <th>11536</th>\n",
       "      <td>900065925</td>\n",
       "      <td>le Quoc Toan Tran</td>\n",
       "      <td>VIE</td>\n",
       "      <td>male</td>\n",
       "      <td>4/5/89</td>\n",
       "      <td>1.60</td>\n",
       "      <td>56.0</td>\n",
       "      <td>weightlifting</td>\n",
       "      <td>0</td>\n",
       "      <td>0</td>\n",
       "      <td>0</td>\n",
       "    </tr>\n",
       "    <tr>\n",
       "      <th>11537</th>\n",
       "      <td>711404576</td>\n",
       "      <td>le Roux Hamman</td>\n",
       "      <td>RSA</td>\n",
       "      <td>male</td>\n",
       "      <td>1/6/92</td>\n",
       "      <td>1.85</td>\n",
       "      <td>70.0</td>\n",
       "      <td>athletics</td>\n",
       "      <td>0</td>\n",
       "      <td>0</td>\n",
       "      <td>0</td>\n",
       "    </tr>\n",
       "  </tbody>\n",
       "</table>\n",
       "<p>11538 rows × 11 columns</p>\n",
       "</div>"
      ],
      "text/plain": [
       "              id                name nationality     sex       dob  height  \\\n",
       "0      736041664      A Jesus Garcia         ESP    male  10/17/69    1.72   \n",
       "1      532037425          A Lam Shin         KOR  female   9/23/86    1.68   \n",
       "2      435962603         Aaron Brown         CAN    male   5/27/92    1.98   \n",
       "3      521041435          Aaron Cook         MDA    male    1/2/91    1.83   \n",
       "4       33922579          Aaron Gate         NZL    male  11/26/90    1.81   \n",
       "...          ...                 ...         ...     ...       ...     ...   \n",
       "11533  265605954  Zurian Hechavarria         CUB  female   8/10/95    1.64   \n",
       "11534  214461847      Zuzana Hejnova         CZE  female  12/19/86    1.73   \n",
       "11535   88361042             di Xiao         CHN    male   5/14/91    1.85   \n",
       "11536  900065925   le Quoc Toan Tran         VIE    male    4/5/89    1.60   \n",
       "11537  711404576      le Roux Hamman         RSA    male    1/6/92    1.85   \n",
       "\n",
       "       weight          sport  gold  silver  bronze  \n",
       "0        64.0      athletics     0       0       0  \n",
       "1        56.0        fencing     0       0       0  \n",
       "2        79.0      athletics     0       0       1  \n",
       "3        80.0      taekwondo     0       0       0  \n",
       "4        71.0        cycling     0       0       0  \n",
       "...       ...            ...   ...     ...     ...  \n",
       "11533    58.0      athletics     0       0       0  \n",
       "11534    63.0      athletics     0       0       0  \n",
       "11535   100.0      wrestling     0       0       0  \n",
       "11536    56.0  weightlifting     0       0       0  \n",
       "11537    70.0      athletics     0       0       0  \n",
       "\n",
       "[11538 rows x 11 columns]"
      ]
     },
     "execution_count": 1443,
     "metadata": {},
     "output_type": "execute_result"
    }
   ],
   "source": [
    "import numpy as np\n",
    "import pandas as pd # Для работы с данными\n",
    "import scipy.stats # При работе со статистикой\n",
    "import matplotlib.pyplot as plt  # Библиотека для визуализации результатов \n",
    "from math import log\n",
    "from math import exp\n",
    "from sklearn.model_selection import train_test_split \n",
    "data = pd.read_csv('https://raw.githubusercontent.com/a-milenkin/datasets_for_t-tests/main/athletes.csv') # датасет - https://www.kaggle.com/rio2016/olympic-games\n",
    "data\n"
   ]
  },
  {
   "cell_type": "code",
   "execution_count": 1444,
   "id": "e6ad561c",
   "metadata": {},
   "outputs": [],
   "source": [
    "# Задача подобрать зависимость как рост зависит от пола"
   ]
  },
  {
   "cell_type": "code",
   "execution_count": 1445,
   "id": "7b3b7071",
   "metadata": {},
   "outputs": [
    {
     "data": {
      "text/html": [
       "<div>\n",
       "<style scoped>\n",
       "    .dataframe tbody tr th:only-of-type {\n",
       "        vertical-align: middle;\n",
       "    }\n",
       "\n",
       "    .dataframe tbody tr th {\n",
       "        vertical-align: top;\n",
       "    }\n",
       "\n",
       "    .dataframe thead th {\n",
       "        text-align: right;\n",
       "    }\n",
       "</style>\n",
       "<table border=\"1\" class=\"dataframe\">\n",
       "  <thead>\n",
       "    <tr style=\"text-align: right;\">\n",
       "      <th></th>\n",
       "      <th>id</th>\n",
       "      <th>name</th>\n",
       "      <th>nationality</th>\n",
       "      <th>sex</th>\n",
       "      <th>dob</th>\n",
       "      <th>height</th>\n",
       "      <th>weight</th>\n",
       "      <th>sport</th>\n",
       "      <th>gold</th>\n",
       "      <th>silver</th>\n",
       "      <th>bronze</th>\n",
       "    </tr>\n",
       "  </thead>\n",
       "  <tbody>\n",
       "    <tr>\n",
       "      <th>12</th>\n",
       "      <td>258556239</td>\n",
       "      <td>Abbas Qali</td>\n",
       "      <td>IOA</td>\n",
       "      <td>male</td>\n",
       "      <td>10/11/92</td>\n",
       "      <td>NaN</td>\n",
       "      <td>NaN</td>\n",
       "      <td>aquatics</td>\n",
       "      <td>0</td>\n",
       "      <td>0</td>\n",
       "      <td>0</td>\n",
       "    </tr>\n",
       "    <tr>\n",
       "      <th>47</th>\n",
       "      <td>469953606</td>\n",
       "      <td>Abdoullah Bamoussa</td>\n",
       "      <td>ITA</td>\n",
       "      <td>male</td>\n",
       "      <td>6/8/86</td>\n",
       "      <td>NaN</td>\n",
       "      <td>NaN</td>\n",
       "      <td>athletics</td>\n",
       "      <td>0</td>\n",
       "      <td>0</td>\n",
       "      <td>0</td>\n",
       "    </tr>\n",
       "    <tr>\n",
       "      <th>50</th>\n",
       "      <td>325809293</td>\n",
       "      <td>Abdul Omar</td>\n",
       "      <td>GHA</td>\n",
       "      <td>male</td>\n",
       "      <td>10/3/93</td>\n",
       "      <td>NaN</td>\n",
       "      <td>NaN</td>\n",
       "      <td>boxing</td>\n",
       "      <td>0</td>\n",
       "      <td>0</td>\n",
       "      <td>0</td>\n",
       "    </tr>\n",
       "    <tr>\n",
       "      <th>52</th>\n",
       "      <td>262868423</td>\n",
       "      <td>Abdulaziz Alshatti</td>\n",
       "      <td>IOA</td>\n",
       "      <td>male</td>\n",
       "      <td>10/30/90</td>\n",
       "      <td>NaN</td>\n",
       "      <td>NaN</td>\n",
       "      <td>fencing</td>\n",
       "      <td>0</td>\n",
       "      <td>0</td>\n",
       "      <td>0</td>\n",
       "    </tr>\n",
       "    <tr>\n",
       "      <th>56</th>\n",
       "      <td>897549624</td>\n",
       "      <td>Abdullah Hel Baki</td>\n",
       "      <td>BAN</td>\n",
       "      <td>male</td>\n",
       "      <td>8/1/89</td>\n",
       "      <td>NaN</td>\n",
       "      <td>NaN</td>\n",
       "      <td>shooting</td>\n",
       "      <td>0</td>\n",
       "      <td>0</td>\n",
       "      <td>0</td>\n",
       "    </tr>\n",
       "  </tbody>\n",
       "</table>\n",
       "</div>"
      ],
      "text/plain": [
       "           id                name nationality   sex       dob  height  weight  \\\n",
       "12  258556239          Abbas Qali         IOA  male  10/11/92     NaN     NaN   \n",
       "47  469953606  Abdoullah Bamoussa         ITA  male    6/8/86     NaN     NaN   \n",
       "50  325809293          Abdul Omar         GHA  male   10/3/93     NaN     NaN   \n",
       "52  262868423  Abdulaziz Alshatti         IOA  male  10/30/90     NaN     NaN   \n",
       "56  897549624   Abdullah Hel Baki         BAN  male    8/1/89     NaN     NaN   \n",
       "\n",
       "        sport  gold  silver  bronze  \n",
       "12   aquatics     0       0       0  \n",
       "47  athletics     0       0       0  \n",
       "50     boxing     0       0       0  \n",
       "52    fencing     0       0       0  \n",
       "56   shooting     0       0       0  "
      ]
     },
     "execution_count": 1445,
     "metadata": {},
     "output_type": "execute_result"
    }
   ],
   "source": [
    "data[ pd.isnull(data['height'])].head()"
   ]
  },
  {
   "cell_type": "code",
   "execution_count": 1446,
   "id": "c2426252",
   "metadata": {},
   "outputs": [],
   "source": [
    "data = data[pd.isnull(data['height']) == 0 ]"
   ]
  },
  {
   "cell_type": "code",
   "execution_count": 1447,
   "id": "b0e84ab8",
   "metadata": {},
   "outputs": [
    {
     "data": {
      "text/plain": [
       "0        1.72\n",
       "1        1.68\n",
       "2        1.98\n",
       "3        1.83\n",
       "4        1.81\n",
       "         ... \n",
       "11203    1.64\n",
       "11204    1.73\n",
       "11205    1.85\n",
       "11206    1.60\n",
       "11207    1.85\n",
       "Name: height, Length: 11208, dtype: float64"
      ]
     },
     "execution_count": 1447,
     "metadata": {},
     "output_type": "execute_result"
    }
   ],
   "source": [
    "X = data ['height']\n",
    "#X = X.astype(np.int)\n",
    "X = X.reset_index(drop=True)\n",
    "X"
   ]
  },
  {
   "cell_type": "code",
   "execution_count": 1448,
   "id": "770d8a29",
   "metadata": {},
   "outputs": [],
   "source": [
    "from sklearn.preprocessing import LabelEncoder\n",
    "le = LabelEncoder()"
   ]
  },
  {
   "cell_type": "code",
   "execution_count": 1449,
   "id": "003604fa",
   "metadata": {},
   "outputs": [
    {
     "data": {
      "text/plain": [
       "LabelEncoder()"
      ]
     },
     "execution_count": 1449,
     "metadata": {},
     "output_type": "execute_result"
    }
   ],
   "source": [
    "le.fit( data['sex'])"
   ]
  },
  {
   "cell_type": "code",
   "execution_count": 1450,
   "id": "66e58127",
   "metadata": {},
   "outputs": [
    {
     "data": {
      "text/plain": [
       "0        1\n",
       "1        0\n",
       "2        1\n",
       "3        1\n",
       "4        1\n",
       "        ..\n",
       "11203    0\n",
       "11204    0\n",
       "11205    1\n",
       "11206    1\n",
       "11207    1\n",
       "Length: 11208, dtype: int32"
      ]
     },
     "execution_count": 1450,
     "metadata": {},
     "output_type": "execute_result"
    }
   ],
   "source": [
    "Y = pd.Series (data = le.transform(data['sex']))\n",
    "Y"
   ]
  },
  {
   "cell_type": "code",
   "execution_count": 1451,
   "id": "aae7d164",
   "metadata": {},
   "outputs": [],
   "source": [
    "X_train, X_test, Y_train, Y_test = train_test_split(X, Y, test_size=0.2, random_state=29)"
   ]
  },
  {
   "cell_type": "code",
   "execution_count": 1452,
   "id": "19f5b4a7",
   "metadata": {},
   "outputs": [],
   "source": [
    "X_train = X_train.reset_index(drop=True)\n",
    "Y_train = Y_train.reset_index(drop=True)\n",
    "X_test = X_test.reset_index(drop=True)\n",
    "Y_test = Y_test.reset_index(drop=True)"
   ]
  },
  {
   "cell_type": "code",
   "execution_count": 1453,
   "id": "9997dba8",
   "metadata": {},
   "outputs": [],
   "source": [
    "# обычный градиентный спуск"
   ]
  },
  {
   "cell_type": "code",
   "execution_count": 1454,
   "id": "f706f7d4",
   "metadata": {},
   "outputs": [],
   "source": [
    "EPOCHS = 100\n",
    "LEARNING_RATE = 0.0001"
   ]
  },
  {
   "cell_type": "code",
   "execution_count": 1455,
   "id": "290f3172",
   "metadata": {},
   "outputs": [],
   "source": [
    "def cost_function(X, Y, theta0, theta1):\n",
    "    total_cost = 0\n",
    "    for i in range(len(X)):\n",
    "        total_cost += (Y[i]*log(theta0 + theta1*X[i]) + (1 - Y[i])*log(1 - theta0 - theta1*X[i]))\n",
    "        #total_cost += (Y[i]*log(theta0 + theta1*X[i]))\n",
    "    return -total_cost/len(X) "
   ]
  },
  {
   "cell_type": "code",
   "execution_count": 1456,
   "id": "69399f40",
   "metadata": {},
   "outputs": [],
   "source": [
    "def der_theta0(X, Y, theta0, theta1):\n",
    "    total_cost = 0\n",
    "    for i in range(len(X)):\n",
    "        total_cost += (Y[i] / (theta0 + theta1*X[i]) - (1 - Y[i]) / (1 - theta0 - theta1*X[i]))\n",
    "        #total_cost += X[i]\n",
    "    return -total_cost/len(X)    "
   ]
  },
  {
   "cell_type": "code",
   "execution_count": 1457,
   "id": "c82ac5f0",
   "metadata": {},
   "outputs": [],
   "source": [
    "def der_theta1(X, Y, theta0, theta1):\n",
    "    total_cost = 0\n",
    "    for i in range(len(X)):\n",
    "        total_cost += (Y[i] / (theta0 + theta1*X[i]) * X[i] - (1 - Y[i]) / (1 - theta0 - theta1*X[i]) * X[i])\n",
    "        #total_cost += X[i]\n",
    "    return -total_cost/len(X) "
   ]
  },
  {
   "cell_type": "code",
   "execution_count": 1458,
   "id": "e4e2e4d2",
   "metadata": {},
   "outputs": [],
   "source": [
    "theta0 = 0.20\n",
    "theta1 = 0.20\n",
    "costs = []\n",
    "for _ in range(EPOCHS):\n",
    "    dt0 = der_theta0(X_train, Y_train, theta0, theta1)\n",
    "    dt1 = der_theta1(X_train, Y_train, theta0, theta1)\n",
    "    \n",
    "    theta0 = theta0 - LEARNING_RATE * dt0\n",
    "    theta1 -= LEARNING_RATE * dt1\n",
    "    cost = cost_function(X_train, Y_train, theta0, theta1)\n",
    "    costs.append(cost)\n",
    "    #print(\"t0:\", theta0, \"t1:\", theta1, \"cost:\", cost_function(X_train, Y_train, theta0, theta1))"
   ]
  },
  {
   "cell_type": "code",
   "execution_count": 1459,
   "id": "0f794fa0",
   "metadata": {},
   "outputs": [
    {
     "name": "stdout",
     "output_type": "stream",
     "text": [
      "t0: 0.19971772758735648 t1: 0.20062144738783597 cost: 0.6660120303466976\n"
     ]
    }
   ],
   "source": [
    "print(\"t0:\", theta0, \"t1:\", theta1, \"cost:\", cost_function(X_train, Y_train, theta0, theta1))"
   ]
  },
  {
   "cell_type": "code",
   "execution_count": 1460,
   "id": "7fe70336",
   "metadata": {},
   "outputs": [
    {
     "data": {
      "image/png": "[encoded data removed]",
      "text/plain": [
       "<Figure size 1152x864 with 1 Axes>"
      ]
     },
     "metadata": {
      "needs_background": "light"
     },
     "output_type": "display_data"
    }
   ],
   "source": [
    "plt.figure(figsize=(16,12))\n",
    "plt.plot(costs)\n",
    "plt.show()"
   ]
  },
  {
   "cell_type": "code",
   "execution_count": 1461,
   "id": "46d907ec",
   "metadata": {},
   "outputs": [
    {
     "name": "stdout",
     "output_type": "stream",
     "text": [
      "cost: 0.6622781028944095\n"
     ]
    }
   ],
   "source": [
    "print(\"cost:\", cost_function(X_test, Y_test, theta0, theta1))"
   ]
  },
  {
   "cell_type": "code",
   "execution_count": 1462,
   "id": "d09bf508",
   "metadata": {},
   "outputs": [],
   "source": [
    "def sigmoid(x, theta0, theta1):\n",
    "       \n",
    "    return 1/(1 - exp(-theta0 - x*theta1))"
   ]
  },
  {
   "cell_type": "code",
   "execution_count": 1463,
   "id": "ee732ab6",
   "metadata": {},
   "outputs": [],
   "source": [
    "tp = 0 # True positive\n",
    "fp = 0 # False positive\n",
    "fn = 0 # False negative\n",
    "tn = 0 # True negative\n",
    "\n",
    "\n",
    "for i in range(len(X_test)):\n",
    "    predictions = sigmoid(X_test[i], theta0, theta1)\n",
    "    if predictions >= 0.5:\n",
    "        predicted = 1\n",
    "    else:\n",
    "        predicted = 0\n",
    "    \n",
    "    if predicted == 1:\n",
    "        if Y_test[i] == 1:\n",
    "            tp += 1\n",
    "        else:\n",
    "            fp += 1\n",
    "    \n",
    "    else:\n",
    "        if Y_test[i] == 1:\n",
    "            fn += 1\n",
    "        else:\n",
    "            tn += 1"
   ]
  },
  {
   "cell_type": "code",
   "execution_count": 1464,
   "id": "73181ddf",
   "metadata": {},
   "outputs": [
    {
     "data": {
      "text/plain": [
       "(1263, 979, 0, 0)"
      ]
     },
     "execution_count": 1464,
     "metadata": {},
     "output_type": "execute_result"
    }
   ],
   "source": [
    "tp, fp, fn, tn"
   ]
  },
  {
   "cell_type": "code",
   "execution_count": 1465,
   "id": "b2084d88",
   "metadata": {},
   "outputs": [
    {
     "data": {
      "text/plain": [
       "0.563336306868867"
      ]
     },
     "execution_count": 1465,
     "metadata": {},
     "output_type": "execute_result"
    }
   ],
   "source": [
    "# Accuracy\n",
    "(tp + tn) / (tp + fp + fn + tn)"
   ]
  },
  {
   "cell_type": "code",
   "execution_count": 1466,
   "id": "22f9eb1d",
   "metadata": {},
   "outputs": [
    {
     "data": {
      "text/plain": [
       "0.563336306868867"
      ]
     },
     "execution_count": 1466,
     "metadata": {},
     "output_type": "execute_result"
    }
   ],
   "source": [
    "# Precision\n",
    "tp / (tp + fp)"
   ]
  },
  {
   "cell_type": "code",
   "execution_count": 1467,
   "id": "335f493e",
   "metadata": {},
   "outputs": [
    {
     "data": {
      "text/plain": [
       "1.0"
      ]
     },
     "execution_count": 1467,
     "metadata": {},
     "output_type": "execute_result"
    }
   ],
   "source": [
    "# Recall\n",
    "tp / (tp + fn)"
   ]
  },
  {
   "cell_type": "code",
   "execution_count": 1468,
   "id": "81b16248",
   "metadata": {},
   "outputs": [],
   "source": [
    "# Nesterov Accelerated Gradient"
   ]
  },
  {
   "cell_type": "code",
   "execution_count": 1469,
   "id": "c99d8e0d",
   "metadata": {},
   "outputs": [],
   "source": [
    "EPOCHS = 100\n",
    "LEARNING_RATE = 0.0001\n",
    "gamma = 0.9\n",
    "eta = LEARNING_RATE * 0.1"
   ]
  },
  {
   "cell_type": "code",
   "execution_count": 1470,
   "id": "626cdeb8",
   "metadata": {},
   "outputs": [],
   "source": [
    "theta0 = 0.20\n",
    "theta1 = 0.20\n",
    "vtheta0 = 0\n",
    "vtheta1 = 0\n",
    "\n",
    "costs = []\n",
    "\n",
    "for _ in range(EPOCHS):\n",
    "    dt0 = der_theta0(X_train, Y_train, theta0 - gamma*vtheta0 , theta1)\n",
    "    dt1 = der_theta1(X_train, Y_train, theta0, theta1 - gamma*vtheta1)\n",
    "    \n",
    "    vtheta0 = gamma*vtheta0 + eta*dt0\n",
    "    vtheta1 = gamma*vtheta1 + eta*dt1\n",
    "    \n",
    "    theta0 = theta0 - vtheta0\n",
    "    theta1 = theta1 - vtheta1\n",
    "    \n",
    "    cost = cost_function(X_train, Y_train, theta0, theta1)\n",
    "    costs.append(cost)\n",
    "    #print(\"t0:\", theta0, \"t1:\", theta1, \"cost:\", cost_function(X, Y, theta0, theta1))"
   ]
  },
  {
   "cell_type": "code",
   "execution_count": 1471,
   "id": "6ef00e20",
   "metadata": {},
   "outputs": [
    {
     "name": "stdout",
     "output_type": "stream",
     "text": [
      "t0: 0.19974653789882127 t1: 0.20057083617992652 cost: 0.666015902696762\n"
     ]
    }
   ],
   "source": [
    "print(\"t0:\", theta0, \"t1:\", theta1, \"cost:\", cost_function(X_train, Y_train, theta0, theta1))"
   ]
  },
  {
   "cell_type": "code",
   "execution_count": 1472,
   "id": "2edefbb0",
   "metadata": {},
   "outputs": [
    {
     "data": {
      "image/png": "[encoded data removed]",
      "text/plain": [
       "<Figure size 1152x864 with 1 Axes>"
      ]
     },
     "metadata": {
      "needs_background": "light"
     },
     "output_type": "display_data"
    }
   ],
   "source": [
    "plt.figure(figsize=(16,12))\n",
    "plt.plot(costs)\n",
    "plt.show()"
   ]
  },
  {
   "cell_type": "code",
   "execution_count": 1473,
   "id": "6b9f4df5",
   "metadata": {},
   "outputs": [
    {
     "name": "stdout",
     "output_type": "stream",
     "text": [
      "cost: 0.6622864478938297\n"
     ]
    }
   ],
   "source": [
    "print(\"cost:\", cost_function(X_test, Y_test, theta0, theta1))"
   ]
  },
  {
   "cell_type": "code",
   "execution_count": 1474,
   "id": "65b1c340",
   "metadata": {},
   "outputs": [],
   "source": [
    "tp = 0 # True positive\n",
    "fp = 0 # False positive\n",
    "fn = 0 # False negative\n",
    "tn = 0 # True negative\n",
    "\n",
    "\n",
    "for i in range(len(X_test)):\n",
    "    predictions = sigmoid(X_test[i], theta0, theta1)\n",
    "    if predictions >= 0.5:\n",
    "        predicted = 1\n",
    "    else:\n",
    "        predicted = 0\n",
    "    \n",
    "    if predicted == 1:\n",
    "        if Y_test[i] == 1:\n",
    "            tp += 1\n",
    "        else:\n",
    "            fp += 1\n",
    "    \n",
    "    else:\n",
    "        if Y_test[i] == 1:\n",
    "            fn += 1\n",
    "        else:\n",
    "            tn += 1"
   ]
  },
  {
   "cell_type": "code",
   "execution_count": 1475,
   "id": "0ad773fa",
   "metadata": {},
   "outputs": [
    {
     "data": {
      "text/plain": [
       "(1263, 979, 0, 0)"
      ]
     },
     "execution_count": 1475,
     "metadata": {},
     "output_type": "execute_result"
    }
   ],
   "source": [
    "tp, fp, fn, tn"
   ]
  },
  {
   "cell_type": "code",
   "execution_count": 1476,
   "id": "a01a8aad",
   "metadata": {},
   "outputs": [
    {
     "data": {
      "text/plain": [
       "0.563336306868867"
      ]
     },
     "execution_count": 1476,
     "metadata": {},
     "output_type": "execute_result"
    }
   ],
   "source": [
    "# Accuracy\n",
    "(tp + tn) / (tp + fp + fn + tn)"
   ]
  },
  {
   "cell_type": "code",
   "execution_count": 1477,
   "id": "108e0a96",
   "metadata": {},
   "outputs": [
    {
     "data": {
      "text/plain": [
       "0.563336306868867"
      ]
     },
     "execution_count": 1477,
     "metadata": {},
     "output_type": "execute_result"
    }
   ],
   "source": [
    "# Precision\n",
    "tp / (tp + fp)"
   ]
  },
  {
   "cell_type": "code",
   "execution_count": 1478,
   "id": "3542f462",
   "metadata": {},
   "outputs": [
    {
     "data": {
      "text/plain": [
       "1.0"
      ]
     },
     "execution_count": 1478,
     "metadata": {},
     "output_type": "execute_result"
    }
   ],
   "source": [
    "# Recall\n",
    "tp / (tp + fn)"
   ]
  },
  {
   "cell_type": "code",
   "execution_count": 1479,
   "id": "dd59a5ab",
   "metadata": {},
   "outputs": [],
   "source": [
    "#RMSProp"
   ]
  },
  {
   "cell_type": "code",
   "execution_count": 1480,
   "id": "fc38fefd",
   "metadata": {},
   "outputs": [],
   "source": [
    "EPOCHS = 100\n",
    "LEARNING_RATE = 0.0001\n",
    "gamma = 0.9\n",
    "eta = LEARNING_RATE\n",
    "epcilend = 0.00000001"
   ]
  },
  {
   "cell_type": "code",
   "execution_count": 1481,
   "id": "70757c1f",
   "metadata": {},
   "outputs": [],
   "source": [
    "theta0 = 0.20\n",
    "theta1 = 0.20\n",
    "E0 = 0\n",
    "E1 = 0\n",
    "\n",
    "costs = []\n",
    "\n",
    "\n",
    "for _ in range(EPOCHS):\n",
    "    dt0 = der_theta0(X, Y, theta0, theta1)\n",
    "    dt1 = der_theta1(X, Y, theta0, theta1)\n",
    "    \n",
    "    E0 = gamma*E0 + (1 - gamma)*(dt0**2)\n",
    "    E1 = gamma*E1 + (1 - gamma)*(dt1**2)\n",
    "    \n",
    "    theta0 = theta0 - LEARNING_RATE*dt0/((E0 + epcilend)**0.5)\n",
    "    theta1 = theta1 - LEARNING_RATE*dt1/((E1 + epcilend)**0.5)\n",
    "    \n",
    "    cost = cost_function(X_train, Y_train, theta0, theta1)\n",
    "    costs.append(cost)"
   ]
  },
  {
   "cell_type": "code",
   "execution_count": 1482,
   "id": "c0506933",
   "metadata": {},
   "outputs": [
    {
     "name": "stdout",
     "output_type": "stream",
     "text": [
      "t0: 0.18826468861258314 t1: 0.2103995744987865 cost: 0.6643244274082547\n"
     ]
    }
   ],
   "source": [
    "print(\"t0:\", theta0, \"t1:\", theta1, \"cost:\", cost_function(X, Y, theta0, theta1))"
   ]
  },
  {
   "cell_type": "code",
   "execution_count": 1483,
   "id": "1c53cf83",
   "metadata": {},
   "outputs": [
    {
     "data": {
      "image/png": "[encoded data removed]",
      "text/plain": [
       "<Figure size 1152x864 with 1 Axes>"
      ]
     },
     "metadata": {
      "needs_background": "light"
     },
     "output_type": "display_data"
    }
   ],
   "source": [
    "plt.figure(figsize=(16,12))\n",
    "plt.plot(costs)\n",
    "plt.show()"
   ]
  },
  {
   "cell_type": "code",
   "execution_count": 1484,
   "id": "119d1043",
   "metadata": {},
   "outputs": [
    {
     "name": "stdout",
     "output_type": "stream",
     "text": [
      "cost: 0.6610022777139153\n"
     ]
    }
   ],
   "source": [
    "print(\"cost:\", cost_function(X_test, Y_test, theta0, theta1))"
   ]
  },
  {
   "cell_type": "code",
   "execution_count": 1485,
   "id": "32ca6165",
   "metadata": {},
   "outputs": [],
   "source": [
    "tp = 0 # True positive\n",
    "fp = 0 # False positive\n",
    "fn = 0 # False negative\n",
    "tn = 0 # True negative\n",
    "\n",
    "\n",
    "for i in range(len(X_test)):\n",
    "    predictions = sigmoid(X_test[i], theta0, theta1)\n",
    "    if predictions >= 0.5:\n",
    "        predicted = 1\n",
    "    else:\n",
    "        predicted = 0\n",
    "    \n",
    "    if predicted == 1:\n",
    "        if Y_test[i] == 1:\n",
    "            tp += 1\n",
    "        else:\n",
    "            fp += 1\n",
    "    \n",
    "    else:\n",
    "        if Y_test[i] == 1:\n",
    "            fn += 1\n",
    "        else:\n",
    "            tn += 1"
   ]
  },
  {
   "cell_type": "code",
   "execution_count": 1486,
   "id": "91480223",
   "metadata": {},
   "outputs": [
    {
     "data": {
      "text/plain": [
       "(1263, 979, 0, 0)"
      ]
     },
     "execution_count": 1486,
     "metadata": {},
     "output_type": "execute_result"
    }
   ],
   "source": [
    "tp, fp, fn, tn"
   ]
  },
  {
   "cell_type": "code",
   "execution_count": 1487,
   "id": "27a60275",
   "metadata": {},
   "outputs": [
    {
     "data": {
      "text/plain": [
       "0.563336306868867"
      ]
     },
     "execution_count": 1487,
     "metadata": {},
     "output_type": "execute_result"
    }
   ],
   "source": [
    "# Accuracy\n",
    "(tp + tn) / (tp + fp + fn + tn)"
   ]
  },
  {
   "cell_type": "code",
   "execution_count": 1488,
   "id": "44ca7799",
   "metadata": {},
   "outputs": [
    {
     "data": {
      "text/plain": [
       "0.563336306868867"
      ]
     },
     "execution_count": 1488,
     "metadata": {},
     "output_type": "execute_result"
    }
   ],
   "source": [
    "# Precision\n",
    "tp / (tp + fp)"
   ]
  },
  {
   "cell_type": "code",
   "execution_count": 1489,
   "id": "3723e327",
   "metadata": {},
   "outputs": [
    {
     "data": {
      "text/plain": [
       "1.0"
      ]
     },
     "execution_count": 1489,
     "metadata": {},
     "output_type": "execute_result"
    }
   ],
   "source": [
    "# Recall\n",
    "tp / (tp + fn)"
   ]
  },
  {
   "cell_type": "code",
   "execution_count": 1490,
   "id": "5c479449",
   "metadata": {},
   "outputs": [],
   "source": [
    "# dataset Iris"
   ]
  },
  {
   "cell_type": "code",
   "execution_count": 1491,
   "id": "20a14a02",
   "metadata": {},
   "outputs": [],
   "source": [
    "from sklearn import datasets"
   ]
  },
  {
   "cell_type": "code",
   "execution_count": 1492,
   "id": "603c9413",
   "metadata": {},
   "outputs": [
    {
     "data": {
      "text/plain": [
       "{'data': array([[5.1, 3.5, 1.4, 0.2],\n",
       "        [4.9, 3. , 1.4, 0.2],\n",
       "        [4.7, 3.2, 1.3, 0.2],\n",
       "        [4.6, 3.1, 1.5, 0.2],\n",
       "        [5. , 3.6, 1.4, 0.2],\n",
       "        [5.4, 3.9, 1.7, 0.4],\n",
       "        [4.6, 3.4, 1.4, 0.3],\n",
       "        [5. , 3.4, 1.5, 0.2],\n",
       "        [4.4, 2.9, 1.4, 0.2],\n",
       "        [4.9, 3.1, 1.5, 0.1],\n",
       "        [5.4, 3.7, 1.5, 0.2],\n",
       "        [4.8, 3.4, 1.6, 0.2],\n",
       "        [4.8, 3. , 1.4, 0.1],\n",
       "        [4.3, 3. , 1.1, 0.1],\n",
       "        [5.8, 4. , 1.2, 0.2],\n",
       "        [5.7, 4.4, 1.5, 0.4],\n",
       "        [5.4, 3.9, 1.3, 0.4],\n",
       "        [5.1, 3.5, 1.4, 0.3],\n",
       "        [5.7, 3.8, 1.7, 0.3],\n",
       "        [5.1, 3.8, 1.5, 0.3],\n",
       "        [5.4, 3.4, 1.7, 0.2],\n",
       "        [5.1, 3.7, 1.5, 0.4],\n",
       "        [4.6, 3.6, 1. , 0.2],\n",
       "        [5.1, 3.3, 1.7, 0.5],\n",
       "        [4.8, 3.4, 1.9, 0.2],\n",
       "        [5. , 3. , 1.6, 0.2],\n",
       "        [5. , 3.4, 1.6, 0.4],\n",
       "        [5.2, 3.5, 1.5, 0.2],\n",
       "        [5.2, 3.4, 1.4, 0.2],\n",
       "        [4.7, 3.2, 1.6, 0.2],\n",
       "        [4.8, 3.1, 1.6, 0.2],\n",
       "        [5.4, 3.4, 1.5, 0.4],\n",
       "        [5.2, 4.1, 1.5, 0.1],\n",
       "        [5.5, 4.2, 1.4, 0.2],\n",
       "        [4.9, 3.1, 1.5, 0.2],\n",
       "        [5. , 3.2, 1.2, 0.2],\n",
       "        [5.5, 3.5, 1.3, 0.2],\n",
       "        [4.9, 3.6, 1.4, 0.1],\n",
       "        [4.4, 3. , 1.3, 0.2],\n",
       "        [5.1, 3.4, 1.5, 0.2],\n",
       "        [5. , 3.5, 1.3, 0.3],\n",
       "        [4.5, 2.3, 1.3, 0.3],\n",
       "        [4.4, 3.2, 1.3, 0.2],\n",
       "        [5. , 3.5, 1.6, 0.6],\n",
       "        [5.1, 3.8, 1.9, 0.4],\n",
       "        [4.8, 3. , 1.4, 0.3],\n",
       "        [5.1, 3.8, 1.6, 0.2],\n",
       "        [4.6, 3.2, 1.4, 0.2],\n",
       "        [5.3, 3.7, 1.5, 0.2],\n",
       "        [5. , 3.3, 1.4, 0.2],\n",
       "        [7. , 3.2, 4.7, 1.4],\n",
       "        [6.4, 3.2, 4.5, 1.5],\n",
       "        [6.9, 3.1, 4.9, 1.5],\n",
       "        [5.5, 2.3, 4. , 1.3],\n",
       "        [6.5, 2.8, 4.6, 1.5],\n",
       "        [5.7, 2.8, 4.5, 1.3],\n",
       "        [6.3, 3.3, 4.7, 1.6],\n",
       "        [4.9, 2.4, 3.3, 1. ],\n",
       "        [6.6, 2.9, 4.6, 1.3],\n",
       "        [5.2, 2.7, 3.9, 1.4],\n",
       "        [5. , 2. , 3.5, 1. ],\n",
       "        [5.9, 3. , 4.2, 1.5],\n",
       "        [6. , 2.2, 4. , 1. ],\n",
       "        [6.1, 2.9, 4.7, 1.4],\n",
       "        [5.6, 2.9, 3.6, 1.3],\n",
       "        [6.7, 3.1, 4.4, 1.4],\n",
       "        [5.6, 3. , 4.5, 1.5],\n",
       "        [5.8, 2.7, 4.1, 1. ],\n",
       "        [6.2, 2.2, 4.5, 1.5],\n",
       "        [5.6, 2.5, 3.9, 1.1],\n",
       "        [5.9, 3.2, 4.8, 1.8],\n",
       "        [6.1, 2.8, 4. , 1.3],\n",
       "        [6.3, 2.5, 4.9, 1.5],\n",
       "        [6.1, 2.8, 4.7, 1.2],\n",
       "        [6.4, 2.9, 4.3, 1.3],\n",
       "        [6.6, 3. , 4.4, 1.4],\n",
       "        [6.8, 2.8, 4.8, 1.4],\n",
       "        [6.7, 3. , 5. , 1.7],\n",
       "        [6. , 2.9, 4.5, 1.5],\n",
       "        [5.7, 2.6, 3.5, 1. ],\n",
       "        [5.5, 2.4, 3.8, 1.1],\n",
       "        [5.5, 2.4, 3.7, 1. ],\n",
       "        [5.8, 2.7, 3.9, 1.2],\n",
       "        [6. , 2.7, 5.1, 1.6],\n",
       "        [5.4, 3. , 4.5, 1.5],\n",
       "        [6. , 3.4, 4.5, 1.6],\n",
       "        [6.7, 3.1, 4.7, 1.5],\n",
       "        [6.3, 2.3, 4.4, 1.3],\n",
       "        [5.6, 3. , 4.1, 1.3],\n",
       "        [5.5, 2.5, 4. , 1.3],\n",
       "        [5.5, 2.6, 4.4, 1.2],\n",
       "        [6.1, 3. , 4.6, 1.4],\n",
       "        [5.8, 2.6, 4. , 1.2],\n",
       "        [5. , 2.3, 3.3, 1. ],\n",
       "        [5.6, 2.7, 4.2, 1.3],\n",
       "        [5.7, 3. , 4.2, 1.2],\n",
       "        [5.7, 2.9, 4.2, 1.3],\n",
       "        [6.2, 2.9, 4.3, 1.3],\n",
       "        [5.1, 2.5, 3. , 1.1],\n",
       "        [5.7, 2.8, 4.1, 1.3],\n",
       "        [6.3, 3.3, 6. , 2.5],\n",
       "        [5.8, 2.7, 5.1, 1.9],\n",
       "        [7.1, 3. , 5.9, 2.1],\n",
       "        [6.3, 2.9, 5.6, 1.8],\n",
       "        [6.5, 3. , 5.8, 2.2],\n",
       "        [7.6, 3. , 6.6, 2.1],\n",
       "        [4.9, 2.5, 4.5, 1.7],\n",
       "        [7.3, 2.9, 6.3, 1.8],\n",
       "        [6.7, 2.5, 5.8, 1.8],\n",
       "        [7.2, 3.6, 6.1, 2.5],\n",
       "        [6.5, 3.2, 5.1, 2. ],\n",
       "        [6.4, 2.7, 5.3, 1.9],\n",
       "        [6.8, 3. , 5.5, 2.1],\n",
       "        [5.7, 2.5, 5. , 2. ],\n",
       "        [5.8, 2.8, 5.1, 2.4],\n",
       "        [6.4, 3.2, 5.3, 2.3],\n",
       "        [6.5, 3. , 5.5, 1.8],\n",
       "        [7.7, 3.8, 6.7, 2.2],\n",
       "        [7.7, 2.6, 6.9, 2.3],\n",
       "        [6. , 2.2, 5. , 1.5],\n",
       "        [6.9, 3.2, 5.7, 2.3],\n",
       "        [5.6, 2.8, 4.9, 2. ],\n",
       "        [7.7, 2.8, 6.7, 2. ],\n",
       "        [6.3, 2.7, 4.9, 1.8],\n",
       "        [6.7, 3.3, 5.7, 2.1],\n",
       "        [7.2, 3.2, 6. , 1.8],\n",
       "        [6.2, 2.8, 4.8, 1.8],\n",
       "        [6.1, 3. , 4.9, 1.8],\n",
       "        [6.4, 2.8, 5.6, 2.1],\n",
       "        [7.2, 3. , 5.8, 1.6],\n",
       "        [7.4, 2.8, 6.1, 1.9],\n",
       "        [7.9, 3.8, 6.4, 2. ],\n",
       "        [6.4, 2.8, 5.6, 2.2],\n",
       "        [6.3, 2.8, 5.1, 1.5],\n",
       "        [6.1, 2.6, 5.6, 1.4],\n",
       "        [7.7, 3. , 6.1, 2.3],\n",
       "        [6.3, 3.4, 5.6, 2.4],\n",
       "        [6.4, 3.1, 5.5, 1.8],\n",
       "        [6. , 3. , 4.8, 1.8],\n",
       "        [6.9, 3.1, 5.4, 2.1],\n",
       "        [6.7, 3.1, 5.6, 2.4],\n",
       "        [6.9, 3.1, 5.1, 2.3],\n",
       "        [5.8, 2.7, 5.1, 1.9],\n",
       "        [6.8, 3.2, 5.9, 2.3],\n",
       "        [6.7, 3.3, 5.7, 2.5],\n",
       "        [6.7, 3. , 5.2, 2.3],\n",
       "        [6.3, 2.5, 5. , 1.9],\n",
       "        [6.5, 3. , 5.2, 2. ],\n",
       "        [6.2, 3.4, 5.4, 2.3],\n",
       "        [5.9, 3. , 5.1, 1.8]]),\n",
       " 'target': array([0, 0, 0, 0, 0, 0, 0, 0, 0, 0, 0, 0, 0, 0, 0, 0, 0, 0, 0, 0, 0, 0,\n",
       "        0, 0, 0, 0, 0, 0, 0, 0, 0, 0, 0, 0, 0, 0, 0, 0, 0, 0, 0, 0, 0, 0,\n",
       "        0, 0, 0, 0, 0, 0, 1, 1, 1, 1, 1, 1, 1, 1, 1, 1, 1, 1, 1, 1, 1, 1,\n",
       "        1, 1, 1, 1, 1, 1, 1, 1, 1, 1, 1, 1, 1, 1, 1, 1, 1, 1, 1, 1, 1, 1,\n",
       "        1, 1, 1, 1, 1, 1, 1, 1, 1, 1, 1, 1, 2, 2, 2, 2, 2, 2, 2, 2, 2, 2,\n",
       "        2, 2, 2, 2, 2, 2, 2, 2, 2, 2, 2, 2, 2, 2, 2, 2, 2, 2, 2, 2, 2, 2,\n",
       "        2, 2, 2, 2, 2, 2, 2, 2, 2, 2, 2, 2, 2, 2, 2, 2, 2, 2]),\n",
       " 'frame': None,\n",
       " 'target_names': array(['setosa', 'versicolor', 'virginica'], dtype='<U10'),\n",
       " 'DESCR': '.. _iris_dataset:\\n\\nIris plants dataset\\n--------------------\\n\\n**Data Set Characteristics:**\\n\\n    :Number of Instances: 150 (50 in each of three classes)\\n    :Number of Attributes: 4 numeric, predictive attributes and the class\\n    :Attribute Information:\\n        - sepal length in cm\\n        - sepal width in cm\\n        - petal length in cm\\n        - petal width in cm\\n        - class:\\n                - Iris-Setosa\\n                - Iris-Versicolour\\n                - Iris-Virginica\\n                \\n    :Summary Statistics:\\n\\n    ============== ==== ==== ======= ===== ====================\\n                    Min  Max   Mean    SD   Class Correlation\\n    ============== ==== ==== ======= ===== ====================\\n    sepal length:   4.3  7.9   5.84   0.83    0.7826\\n    sepal width:    2.0  4.4   3.05   0.43   -0.4194\\n    petal length:   1.0  6.9   3.76   1.76    0.9490  (high!)\\n    petal width:    0.1  2.5   1.20   0.76    0.9565  (high!)\\n    ============== ==== ==== ======= ===== ====================\\n\\n    :Missing Attribute Values: None\\n    :Class Distribution: 33.3% for each of 3 classes.\\n    :Creator: R.A. Fisher\\n    :Donor: Michael Marshall (MARSHALL%PLU@io.arc.nasa.gov)\\n    :Date: July, 1988\\n\\nThe famous Iris database, first used by Sir R.A. Fisher. The dataset is taken\\nfrom Fisher\\'s paper. Note that it\\'s the same as in R, but not as in the UCI\\nMachine Learning Repository, which has two wrong data points.\\n\\nThis is perhaps the best known database to be found in the\\npattern recognition literature.  Fisher\\'s paper is a classic in the field and\\nis referenced frequently to this day.  (See Duda & Hart, for example.)  The\\ndata set contains 3 classes of 50 instances each, where each class refers to a\\ntype of iris plant.  One class is linearly separable from the other 2; the\\nlatter are NOT linearly separable from each other.\\n\\n.. topic:: References\\n\\n   - Fisher, R.A. \"The use of multiple measurements in taxonomic problems\"\\n     Annual Eugenics, 7, Part II, 179-188 (1936); also in \"Contributions to\\n     Mathematical Statistics\" (John Wiley, NY, 1950).\\n   - Duda, R.O., & Hart, P.E. (1973) Pattern Classification and Scene Analysis.\\n     (Q327.D83) John Wiley & Sons.  ISBN 0-471-22361-1.  See page 218.\\n   - Dasarathy, B.V. (1980) \"Nosing Around the Neighborhood: A New System\\n     Structure and Classification Rule for Recognition in Partially Exposed\\n     Environments\".  IEEE Transactions on Pattern Analysis and Machine\\n     Intelligence, Vol. PAMI-2, No. 1, 67-71.\\n   - Gates, G.W. (1972) \"The Reduced Nearest Neighbor Rule\".  IEEE Transactions\\n     on Information Theory, May 1972, 431-433.\\n   - See also: 1988 MLC Proceedings, 54-64.  Cheeseman et al\"s AUTOCLASS II\\n     conceptual clustering system finds 3 classes in the data.\\n   - Many, many more ...',\n",
       " 'feature_names': ['sepal length (cm)',\n",
       "  'sepal width (cm)',\n",
       "  'petal length (cm)',\n",
       "  'petal width (cm)'],\n",
       " 'filename': 'C:\\\\ProgramData\\\\Anaconda3\\\\lib\\\\site-packages\\\\sklearn\\\\datasets\\\\data\\\\iris.csv'}"
      ]
     },
     "execution_count": 1492,
     "metadata": {},
     "output_type": "execute_result"
    }
   ],
   "source": [
    "iris = datasets.load_iris()\n",
    "type(iris)\n",
    "iris"
   ]
  },
  {
   "cell_type": "code",
   "execution_count": 1493,
   "id": "4eb3ecf1",
   "metadata": {},
   "outputs": [],
   "source": [
    "X = iris.data[50:] # забираем данные из датасета\n",
    "Y = iris.target[:100]\n",
    "#len(iris.data)"
   ]
  },
  {
   "cell_type": "code",
   "execution_count": 1494,
   "id": "cea11ec0",
   "metadata": {},
   "outputs": [],
   "source": [
    "X_train, X_test, Y_train, Y_test = train_test_split(X, Y, test_size=0.2, random_state=29)"
   ]
  },
  {
   "cell_type": "code",
   "execution_count": 1495,
   "id": "9cd33136",
   "metadata": {},
   "outputs": [],
   "source": [
    "#X_train = X_train.reset_index(drop=True)\n",
    "#Y_train = Y_train.reset_index(drop=True)\n",
    "#X_test = X_test.reset_index(drop=True)\n",
    "#Y_test = Y_test.reset_index(drop=True)"
   ]
  },
  {
   "cell_type": "code",
   "execution_count": 1496,
   "id": "72947e47",
   "metadata": {},
   "outputs": [],
   "source": [
    "def cost_function(X, Y, theta0, theta1, theta2, theta3, theta4):\n",
    "    total_cost = 0\n",
    "    for i in range(len(X)):\n",
    "        total_cost += (Y[i]*log(theta0 + theta1*X[i,0] + theta2*X[i,1] + theta3*X[i,2] + theta4*X[i,3]) + (1 - Y[i])*log(1 - theta0 - theta1*X[i,0] - theta2*X[i,1] - theta3*X[i,2] - theta4*X[i,3]))\n",
    "       # total_cost += (Y[i]*log(theta0 + theta1*X[i,0] + theta2*X[i,1] + theta3*X[i,2] + theta4*X[i,3]))\n",
    "    return -total_cost/len(X) "
   ]
  },
  {
   "cell_type": "code",
   "execution_count": 1497,
   "id": "e21a28a5",
   "metadata": {},
   "outputs": [],
   "source": [
    "def der_theta0(X, Y, theta0, theta1, theta2, theta3, theta4):\n",
    "    total_cost = 0\n",
    "    for i in range(len(X)):\n",
    "        total_cost += (Y[i] / (theta0 + theta1*X[i,0] + theta2*X[i,1] + theta3*X[i,2] + theta4*X[i,3]) + (1 - Y[i]) / (1 - theta0 - theta1*X[i,0] - theta2*X[i,1] - theta3*X[i,2] - theta4*X[i,3]))\n",
    "        #total_cost += X[i]\n",
    "    return -total_cost/len(X)   "
   ]
  },
  {
   "cell_type": "code",
   "execution_count": 1498,
   "id": "7d0f3ea8",
   "metadata": {},
   "outputs": [],
   "source": [
    "def der_theta1(X, Y, theta0, theta1, theta2, theta3, theta4):\n",
    "    total_cost = 0\n",
    "    for i in range(len(X)):\n",
    "        total_cost += (Y[i] / (theta0 + theta1*X[i,0] + theta2*X[i,1] + theta1*X[i,2] + theta1*X[i,3]) * X[i,0] - (1 - Y[i]) / (1 - theta0 - theta1*X[i,0] - theta2*X[i,1] - theta1*X[i,2] - theta1*X[i,3]) * X[i,0])\n",
    "        #total_cost += X[i]\n",
    "    return -total_cost/len(X) "
   ]
  },
  {
   "cell_type": "code",
   "execution_count": 1499,
   "id": "1dae17ae",
   "metadata": {},
   "outputs": [],
   "source": [
    "def der_theta2(X, Y, theta0, theta1, theta2, theta3, theta4):\n",
    "    total_cost = 0\n",
    "    for i in range(len(X)):\n",
    "        total_cost += (Y[i] / (theta0 + theta1*X[i,0] + theta2*X[i,1] + theta1*X[i,2] + theta1*X[i,3]) * X[i,1] - (1 - Y[i]) / (1 - theta0 - theta1*X[i,0] - theta2*X[i,1] - theta1*X[i,2] - theta1*X[i,3]) * X[i,1])\n",
    "        #total_cost += X[i]\n",
    "    return -total_cost/len(X) "
   ]
  },
  {
   "cell_type": "code",
   "execution_count": 1500,
   "id": "1ff3a726",
   "metadata": {},
   "outputs": [],
   "source": [
    "def der_theta3(X, Y, theta0, theta1, theta2, theta3, theta4):\n",
    "    total_cost = 0\n",
    "    for i in range(len(X)):\n",
    "        total_cost += (Y[i] / (theta0 + theta1*X[i,0] + theta2*X[i,1] + theta1*X[i,2] + theta1*X[i,3]) * X[i,2] - (1 - Y[i]) / (1 - theta0 - theta1*X[i,0] - theta2*X[i,1] - theta1*X[i,2] - theta1*X[i,3]) * X[i,2])\n",
    "        #total_cost += X[i]\n",
    "    return -total_cost/len(X) "
   ]
  },
  {
   "cell_type": "code",
   "execution_count": 1501,
   "id": "f4ebcbff",
   "metadata": {},
   "outputs": [],
   "source": [
    "def der_theta4(X, Y, theta0, theta1, theta2, theta3, theta4):\n",
    "    total_cost = 0\n",
    "    for i in range(len(X)):\n",
    "        total_cost += (Y[i] / (theta0 + theta1*X[i,0] + theta2*X[i,1] + theta1*X[i,2] + theta1*X[i,3]) * X[i,3] - (1 - Y[i]) / (1 - theta0 - theta1*X[i,0] - theta2*X[i,1] - theta1*X[i,2] - theta1*X[i,3]) * X[i,3])\n",
    "        #total_cost += X[i]\n",
    "    return -total_cost/len(X) "
   ]
  },
  {
   "cell_type": "code",
   "execution_count": 1502,
   "id": "5a421a13",
   "metadata": {},
   "outputs": [],
   "source": [
    "# обычный градиентный спуск"
   ]
  },
  {
   "cell_type": "code",
   "execution_count": 1503,
   "id": "5f7cc97d",
   "metadata": {},
   "outputs": [],
   "source": [
    "EPOCHS = 20\n",
    "LEARNING_RATE = 0.0001"
   ]
  },
  {
   "cell_type": "code",
   "execution_count": 1504,
   "id": "618f1e5e",
   "metadata": {},
   "outputs": [],
   "source": [
    "theta0 = 0.01\n",
    "theta1 = 0.01\n",
    "theta2 = 0.01\n",
    "theta3 = 0.01\n",
    "theta4 = 0.01\n",
    "\n",
    "costs = []\n",
    "\n",
    "for _ in range(EPOCHS):\n",
    "    dt0 = der_theta0(X_train, Y_train, theta0, theta1, theta2, theta3, theta4)\n",
    "    dt1 = der_theta1(X_train, Y_train, theta0, theta1, theta2, theta3, theta4)\n",
    "    dt2 = der_theta2(X_train, Y_train, theta0, theta1, theta2, theta3, theta4)\n",
    "    dt3 = der_theta3(X_train, Y_train, theta0, theta1, theta2, theta3, theta4)\n",
    "    dt4 = der_theta4(X_train, Y_train, theta0, theta1, theta2, theta3, theta4)\n",
    "    \n",
    "    theta0 = theta0 - LEARNING_RATE * dt0\n",
    "    theta1 -= LEARNING_RATE * dt1\n",
    "    theta2 -= LEARNING_RATE * dt2\n",
    "    theta3 -= LEARNING_RATE * dt3\n",
    "    theta4 -= LEARNING_RATE * dt4\n",
    "    cost = cost_function(X_train, Y_train, theta0, theta1, theta2, theta3, theta4)\n",
    "    costs.append(cost)"
   ]
  },
  {
   "cell_type": "code",
   "execution_count": 1505,
   "id": "034f2790",
   "metadata": {},
   "outputs": [
    {
     "name": "stdout",
     "output_type": "stream",
     "text": [
      "t0: 0.014876382260891491 t1: 0.02402828370624732 t2: 0.01620058097062161 t3: 0.022803873463519867 t4: 0.015026249672204868 cost: 0.6802964258878096\n"
     ]
    }
   ],
   "source": [
    "print(\"t0:\", theta0, \"t1:\", theta1, \"t2:\", theta2, \"t3:\", theta3, \"t4:\", theta4, \"cost:\", cost_function(X_train, Y_train, theta0, theta1, theta2, theta3, theta4))"
   ]
  },
  {
   "cell_type": "code",
   "execution_count": 1506,
   "id": "1452b499",
   "metadata": {},
   "outputs": [
    {
     "data": {
      "image/png": "[encoded data removed]",
      "text/plain": [
       "<Figure size 1152x864 with 1 Axes>"
      ]
     },
     "metadata": {
      "needs_background": "light"
     },
     "output_type": "display_data"
    }
   ],
   "source": [
    "plt.figure(figsize=(16,12))\n",
    "plt.plot(costs)\n",
    "plt.show()"
   ]
  },
  {
   "cell_type": "code",
   "execution_count": 1507,
   "id": "7483d9a0",
   "metadata": {},
   "outputs": [
    {
     "name": "stdout",
     "output_type": "stream",
     "text": [
      "cost: 0.6808224117397567\n"
     ]
    }
   ],
   "source": [
    "print(\"cost:\", cost_function(X_test, Y_test, theta0, theta1, theta2, theta3, theta4))"
   ]
  },
  {
   "cell_type": "code",
   "execution_count": 1508,
   "id": "87530b03",
   "metadata": {},
   "outputs": [],
   "source": [
    "def sigmoid(x1, x2, x3, x4, theta0, theta1):\n",
    "       \n",
    "    return 1/(1 - exp(-theta0 - x1*theta1 - x2*theta2 - x3*theta3 - x4*theta4))"
   ]
  },
  {
   "cell_type": "code",
   "execution_count": 1509,
   "id": "32d45279",
   "metadata": {},
   "outputs": [],
   "source": [
    "tp = 0 # True positive\n",
    "fp = 0 # False positive\n",
    "fn = 0 # False negative\n",
    "tn = 0 # True negative\n",
    "\n",
    "\n",
    "for i in range(len(X_test)):\n",
    "    predictions = sigmoid(X_test[i,0], X_test[i,1], X_test[i,2], X_test[i,3], theta0, theta1)\n",
    "    if predictions >= 0.5:\n",
    "        predicted = 1\n",
    "    else:\n",
    "        predicted = 0\n",
    "    \n",
    "    if predicted == 1:\n",
    "        if Y_test[i] == 1:\n",
    "            tp += 1\n",
    "        else:\n",
    "            fp += 1\n",
    "    \n",
    "    else:\n",
    "        if Y_test[i] == 1:\n",
    "            fn += 1\n",
    "        else:\n",
    "            tn += 1"
   ]
  },
  {
   "cell_type": "code",
   "execution_count": 1510,
   "id": "df920e8c",
   "metadata": {},
   "outputs": [
    {
     "data": {
      "text/plain": [
       "(10, 10, 0, 0)"
      ]
     },
     "execution_count": 1510,
     "metadata": {},
     "output_type": "execute_result"
    }
   ],
   "source": [
    "tp, fp, fn, tn"
   ]
  },
  {
   "cell_type": "code",
   "execution_count": 1511,
   "id": "fb3e3453",
   "metadata": {},
   "outputs": [
    {
     "data": {
      "text/plain": [
       "0.5"
      ]
     },
     "execution_count": 1511,
     "metadata": {},
     "output_type": "execute_result"
    }
   ],
   "source": [
    "# Accuracy\n",
    "(tp + tn) / (tp + fp + fn + tn)"
   ]
  },
  {
   "cell_type": "code",
   "execution_count": 1512,
   "id": "0ba95ef8",
   "metadata": {},
   "outputs": [
    {
     "data": {
      "text/plain": [
       "0.5"
      ]
     },
     "execution_count": 1512,
     "metadata": {},
     "output_type": "execute_result"
    }
   ],
   "source": [
    "# Precision\n",
    "tp / (tp + fp)"
   ]
  },
  {
   "cell_type": "code",
   "execution_count": 1513,
   "id": "2a352c22",
   "metadata": {},
   "outputs": [
    {
     "data": {
      "text/plain": [
       "1.0"
      ]
     },
     "execution_count": 1513,
     "metadata": {},
     "output_type": "execute_result"
    }
   ],
   "source": [
    "# Recall\n",
    "tp / (tp + fn)"
   ]
  },
  {
   "cell_type": "code",
   "execution_count": 1514,
   "id": "4c7ffe9f",
   "metadata": {},
   "outputs": [],
   "source": [
    "# Nesterov Accelerated Gradient"
   ]
  },
  {
   "cell_type": "code",
   "execution_count": 1515,
   "id": "daaa75f1",
   "metadata": {},
   "outputs": [],
   "source": [
    "EPOCHS = 20\n",
    "LEARNING_RATE = 0.0001\n",
    "gamma = 0.9\n",
    "eta = LEARNING_RATE * 0.1"
   ]
  },
  {
   "cell_type": "code",
   "execution_count": 1516,
   "id": "2e4fb8cc",
   "metadata": {},
   "outputs": [],
   "source": [
    "theta0 = 0.01\n",
    "theta1 = 0.01\n",
    "theta2 = 0.01\n",
    "theta3 = 0.01\n",
    "theta4 = 0.01\n",
    "\n",
    "vtheta0 = 0\n",
    "vtheta1 = 0\n",
    "vtheta2 = 0\n",
    "vtheta3 = 0\n",
    "vtheta4 = 0\n",
    "\n",
    "costs = []\n",
    "\n",
    "for _ in range(EPOCHS):\n",
    "    dt0 = der_theta0(X_train, Y_train, theta0 - gamma*vtheta0, theta1, theta2, theta3, theta4)\n",
    "    dt1 = der_theta1(X_train, Y_train, theta0, theta1 - gamma*vtheta1, theta2, theta3, theta4)\n",
    "    dt2 = der_theta2(X_train, Y_train, theta0, theta1, theta2 - gamma*vtheta2, theta3, theta4)\n",
    "    dt3 = der_theta3(X_train, Y_train, theta0, theta1, theta2, theta3 - gamma*vtheta3, theta4)\n",
    "    dt4 = der_theta4(X_train, Y_train, theta0, theta1, theta2, theta3, theta4 - gamma*vtheta4)\n",
    "    \n",
    "    vtheta0 = gamma*vtheta0 + eta*dt0\n",
    "    vtheta1 = gamma*vtheta1 + eta*dt1\n",
    "    vtheta2 = gamma*vtheta2 + eta*dt2\n",
    "    vtheta3 = gamma*vtheta3 + eta*dt3\n",
    "    vtheta4 = gamma*vtheta4 + eta*dt4\n",
    "    \n",
    "    theta0 = theta0 - vtheta0\n",
    "    theta1 = theta1 - vtheta1\n",
    "    theta2 = theta2 - vtheta2\n",
    "    theta3 = theta3 - vtheta3\n",
    "    theta4 = theta4 - vtheta4\n",
    "    \n",
    "    cost = cost_function(X_train, Y_train, theta0, theta1, theta2, theta3, theta4)\n",
    "    costs.append(cost)\n",
    "    #print(\"t0:\", theta0, \"t1:\", theta1, \"cost:\", cost_function(X, Y, theta0, theta1))"
   ]
  },
  {
   "cell_type": "code",
   "execution_count": 1517,
   "id": "b3a5dc9e",
   "metadata": {},
   "outputs": [
    {
     "name": "stdout",
     "output_type": "stream",
     "text": [
      "t0: 0.013446960988266182 t1: 0.022253109588904862 t2: 0.015650271736576373 t3: 0.02126131975145525 t4: 0.014320722007981984 cost: 0.6987380225307925\n"
     ]
    }
   ],
   "source": [
    "print(\"t0:\", theta0, \"t1:\", theta1, \"t2:\", theta2, \"t3:\", theta3, \"t4:\", theta4, \"cost:\", cost_function(X_train, Y_train, theta0, theta1, theta2, theta3, theta4))"
   ]
  },
  {
   "cell_type": "code",
   "execution_count": 1518,
   "id": "2b218c4d",
   "metadata": {},
   "outputs": [
    {
     "data": {
      "image/png": "[encoded data removed]",
      "text/plain": [
       "<Figure size 1152x864 with 1 Axes>"
      ]
     },
     "metadata": {
      "needs_background": "light"
     },
     "output_type": "display_data"
    }
   ],
   "source": [
    "plt.figure(figsize=(16,12))\n",
    "plt.plot(costs)\n",
    "plt.show()"
   ]
  },
  {
   "cell_type": "code",
   "execution_count": 1519,
   "id": "facb7b42",
   "metadata": {},
   "outputs": [
    {
     "name": "stdout",
     "output_type": "stream",
     "text": [
      "cost: 0.6998820133962715\n"
     ]
    }
   ],
   "source": [
    "print(\"cost:\", cost_function(X_test, Y_test, theta0, theta1, theta2, theta3, theta4))"
   ]
  },
  {
   "cell_type": "code",
   "execution_count": 1520,
   "id": "2cf1ab67",
   "metadata": {},
   "outputs": [],
   "source": [
    "tp = 0 # True positive\n",
    "fp = 0 # False positive\n",
    "fn = 0 # False negative\n",
    "tn = 0 # True negative\n",
    "\n",
    "\n",
    "for i in range(len(X_test)):\n",
    "    predictions = sigmoid(X_test[i,0], X_test[i,1], X_test[i,2], X_test[i,3], theta0, theta1)\n",
    "    if predictions >= 0.5:\n",
    "        predicted = 1\n",
    "    else:\n",
    "        predicted = 0\n",
    "    \n",
    "    if predicted == 1:\n",
    "        if Y_test[i] == 1:\n",
    "            tp += 1\n",
    "        else:\n",
    "            fp += 1\n",
    "    \n",
    "    else:\n",
    "        if Y_test[i] == 1:\n",
    "            fn += 1\n",
    "        else:\n",
    "            tn += 1"
   ]
  },
  {
   "cell_type": "code",
   "execution_count": 1521,
   "id": "a36b52de",
   "metadata": {},
   "outputs": [
    {
     "data": {
      "text/plain": [
       "(10, 10, 0, 0)"
      ]
     },
     "execution_count": 1521,
     "metadata": {},
     "output_type": "execute_result"
    }
   ],
   "source": [
    "tp, fp, fn, tn"
   ]
  },
  {
   "cell_type": "code",
   "execution_count": 1522,
   "id": "fe3eef58",
   "metadata": {},
   "outputs": [
    {
     "data": {
      "text/plain": [
       "0.5"
      ]
     },
     "execution_count": 1522,
     "metadata": {},
     "output_type": "execute_result"
    }
   ],
   "source": [
    "# Accuracy\n",
    "(tp + tn) / (tp + fp + fn + tn)"
   ]
  },
  {
   "cell_type": "code",
   "execution_count": 1523,
   "id": "50275d9e",
   "metadata": {},
   "outputs": [
    {
     "data": {
      "text/plain": [
       "0.5"
      ]
     },
     "execution_count": 1523,
     "metadata": {},
     "output_type": "execute_result"
    }
   ],
   "source": [
    "# Precision\n",
    "tp / (tp + fp)"
   ]
  },
  {
   "cell_type": "code",
   "execution_count": 1524,
   "id": "620ed210",
   "metadata": {},
   "outputs": [
    {
     "data": {
      "text/plain": [
       "1.0"
      ]
     },
     "execution_count": 1524,
     "metadata": {},
     "output_type": "execute_result"
    }
   ],
   "source": [
    "# Recall\n",
    "tp / (tp + fn)"
   ]
  },
  {
   "cell_type": "code",
   "execution_count": 1525,
   "id": "2905fe05",
   "metadata": {},
   "outputs": [],
   "source": [
    "#RMSProp"
   ]
  },
  {
   "cell_type": "code",
   "execution_count": 1526,
   "id": "c3809538",
   "metadata": {},
   "outputs": [],
   "source": [
    "EPOCHS = 20\n",
    "LEARNING_RATE = 0.0001\n",
    "gamma = 0.9\n",
    "eta = LEARNING_RATE\n",
    "epcilend = 0.00000001"
   ]
  },
  {
   "cell_type": "code",
   "execution_count": 1527,
   "id": "987fff83",
   "metadata": {},
   "outputs": [],
   "source": [
    "theta0 = 0.01\n",
    "theta1 = 0.01\n",
    "theta2 = 0.01\n",
    "theta3 = 0.01\n",
    "theta4 = 0.01\n",
    "E0 = 0\n",
    "E1 = 0\n",
    "E2 = 0\n",
    "E3 = 0\n",
    "E4 = 0\n",
    "\n",
    "costs = []\n",
    "\n",
    "\n",
    "for _ in range(EPOCHS):\n",
    "    dt0 = der_theta0(X_train, Y_train, theta0, theta1, theta2, theta3, theta4)\n",
    "    dt1 = der_theta1(X_train, Y_train, theta0, theta1, theta2, theta3, theta4)\n",
    "    dt2 = der_theta2(X_train, Y_train, theta0, theta1, theta2, theta3, theta4)\n",
    "    dt3 = der_theta3(X_train, Y_train, theta0, theta1, theta2, theta3, theta4)\n",
    "    dt4 = der_theta4(X_train, Y_train, theta0, theta1, theta2, theta3, theta4)\n",
    "    \n",
    "    E0 = gamma*E0 + (1 - gamma)*(dt0**2)\n",
    "    E1 = gamma*E1 + (1 - gamma)*(dt1**2)\n",
    "    E2 = gamma*E2 + (1 - gamma)*(dt2**2)\n",
    "    E3 = gamma*E3 + (1 - gamma)*(dt3**2)\n",
    "    E4 = gamma*E4 + (1 - gamma)*(dt4**2)\n",
    "    \n",
    "    theta0 = theta0 - LEARNING_RATE*dt0/((E0 + epcilend)**0.5)\n",
    "    theta1 = theta1 - LEARNING_RATE*dt1/((E1 + epcilend)**0.5)\n",
    "    theta3 = theta2 - LEARNING_RATE*dt2/((E2 + epcilend)**0.5)\n",
    "    theta4 = theta3 - LEARNING_RATE*dt3/((E3 + epcilend)**0.5)\n",
    "    theta5 = theta4 - LEARNING_RATE*dt4/((E4 + epcilend)**0.5)\n",
    "    \n",
    "    cost = cost_function(X_train, Y_train, theta0, theta1, theta2, theta3, theta4)\n",
    "    costs.append(cost)"
   ]
  },
  {
   "cell_type": "code",
   "execution_count": 1528,
   "id": "bb68b2de",
   "metadata": {},
   "outputs": [
    {
     "name": "stdout",
     "output_type": "stream",
     "text": [
      "t0: 0.012820128753664312 t1: 0.012733563444599392 t2: 0.01 t3: 0.01009915422583741 t4: 0.010198779389209269 cost: 0.892309210123026\n"
     ]
    }
   ],
   "source": [
    "print(\"t0:\", theta0, \"t1:\", theta1, \"t2:\", theta2, \"t3:\", theta3, \"t4:\", theta4, \"cost:\", cost_function(X_train, Y_train, theta0, theta1, theta2, theta3, theta4))"
   ]
  },
  {
   "cell_type": "code",
   "execution_count": 1529,
   "id": "b00c5d93",
   "metadata": {},
   "outputs": [
    {
     "data": {
      "image/png": "[encoded data removed]",
      "text/plain": [
       "<Figure size 1152x864 with 1 Axes>"
      ]
     },
     "metadata": {
      "needs_background": "light"
     },
     "output_type": "display_data"
    }
   ],
   "source": [
    "plt.figure(figsize=(16,12))\n",
    "plt.plot(costs)\n",
    "plt.show()"
   ]
  },
  {
   "cell_type": "code",
   "execution_count": 1530,
   "id": "9da2c8d8",
   "metadata": {},
   "outputs": [
    {
     "name": "stdout",
     "output_type": "stream",
     "text": [
      "cost: 0.8969363993387145\n"
     ]
    }
   ],
   "source": [
    "print(\"cost:\", cost_function(X_test, Y_test, theta0, theta1, theta2, theta3, theta4))"
   ]
  },
  {
   "cell_type": "code",
   "execution_count": 1531,
   "id": "ed6f3843",
   "metadata": {},
   "outputs": [],
   "source": [
    "tp = 0 # True positive\n",
    "fp = 0 # False positive\n",
    "fn = 0 # False negative\n",
    "tn = 0 # True negative\n",
    "\n",
    "\n",
    "for i in range(len(X_test)):\n",
    "    predictions = sigmoid(X_test[i,0], X_test[i,1], X_test[i,2], X_test[i,3], theta0, theta1)\n",
    "    if predictions >= 0.5:\n",
    "        predicted = 1\n",
    "    else:\n",
    "        predicted = 0\n",
    "    \n",
    "    if predicted == 1:\n",
    "        if Y_test[i] == 1:\n",
    "            tp += 1\n",
    "        else:\n",
    "            fp += 1\n",
    "    \n",
    "    else:\n",
    "        if Y_test[i] == 1:\n",
    "            fn += 1\n",
    "        else:\n",
    "            tn += 1"
   ]
  },
  {
   "cell_type": "code",
   "execution_count": 1532,
   "id": "bf3c5d58",
   "metadata": {},
   "outputs": [
    {
     "data": {
      "text/plain": [
       "(10, 10, 0, 0)"
      ]
     },
     "execution_count": 1532,
     "metadata": {},
     "output_type": "execute_result"
    }
   ],
   "source": [
    "tp, fp, fn, tn"
   ]
  },
  {
   "cell_type": "code",
   "execution_count": 1533,
   "id": "00e84a15",
   "metadata": {},
   "outputs": [
    {
     "data": {
      "text/plain": [
       "0.5"
      ]
     },
     "execution_count": 1533,
     "metadata": {},
     "output_type": "execute_result"
    }
   ],
   "source": [
    "# Accuracy\n",
    "(tp + tn) / (tp + fp + fn + tn)"
   ]
  },
  {
   "cell_type": "code",
   "execution_count": 1534,
   "id": "757cb161",
   "metadata": {},
   "outputs": [
    {
     "data": {
      "text/plain": [
       "0.5"
      ]
     },
     "execution_count": 1534,
     "metadata": {},
     "output_type": "execute_result"
    }
   ],
   "source": [
    "# Precision\n",
    "tp / (tp + fp)"
   ]
  },
  {
   "cell_type": "code",
   "execution_count": 1535,
   "id": "23fa1a75",
   "metadata": {},
   "outputs": [
    {
     "data": {
      "text/plain": [
       "1.0"
      ]
     },
     "execution_count": 1535,
     "metadata": {},
     "output_type": "execute_result"
    }
   ],
   "source": [
    "# Recall\n",
    "tp / (tp + fn)"
   ]
  }
 ],
 "metadata": {
  "kernelspec": {
   "display_name": "Python 3 (ipykernel)",
   "language": "python",
   "name": "python3"
  },
  "language_info": {
   "codemirror_mode": {
    "name": "ipython",
    "version": 3
   },
   "file_extension": ".py",
   "mimetype": "text/x-python",
   "name": "python",
   "nbconvert_exporter": "python",
   "pygments_lexer": "ipython3",
   "version": "3.8.5"
  }
 },
 "nbformat": 4,
 "nbformat_minor": 5
}
